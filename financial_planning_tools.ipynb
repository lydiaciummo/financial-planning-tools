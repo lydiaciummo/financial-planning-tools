{
 "cells": [
  {
   "cell_type": "markdown",
   "metadata": {},
   "source": [
    "# Financial Planning with APIs and Simulations\n",
    "This project consists of two financial analysis tools to help people become more prepared for the future.\n",
    "\n",
    "The first part of the project is a tool that uses current pricing data to determine if a credit union member's current investments are enough to cover a potential emergency. The second part is a series of simulations and calculations to help the member plan for retirement. Both of these tools use APIs in order to retrieve the most current data to assess."
   ]
  },
  {
   "cell_type": "code",
   "execution_count": 111,
   "metadata": {},
   "outputs": [],
   "source": [
    "# Import the required libraries and dependencies\n",
    "import os\n",
    "import requests\n",
    "import json\n",
    "import pandas as pd\n",
    "from dotenv import load_dotenv\n",
    "import alpaca_trade_api as tradeapi\n",
    "from MCForecastTools import MCSimulation\n",
    "\n",
    "%matplotlib inline"
   ]
  },
  {
   "cell_type": "code",
   "execution_count": 112,
   "metadata": {},
   "outputs": [
    {
     "data": {
      "text/plain": [
       "True"
      ]
     },
     "execution_count": 112,
     "metadata": {},
     "output_type": "execute_result"
    }
   ],
   "source": [
    "# Load the environment variables from the .env file\n",
    "#by calling the load_dotenv function\n",
    "load_dotenv()"
   ]
  },
  {
   "cell_type": "markdown",
   "metadata": {},
   "source": [
    "## Part 1: Financial Planner for Emergencies"
   ]
  },
  {
   "cell_type": "markdown",
   "metadata": {},
   "source": [
    "It is important to have money saved in case of an emergency. This section will analyze a portfolio made up of cryptocurrencies, stocks, and bonds to determine if the value of all of the assets combined is enough to cover at least 3 months of potential lost income for the user."
   ]
  },
  {
   "cell_type": "markdown",
   "metadata": {},
   "source": [
    "### Step 1: Retrieve pricing data for the coins in the portfolio"
   ]
  },
  {
   "cell_type": "code",
   "execution_count": 113,
   "metadata": {},
   "outputs": [],
   "source": [
    "# The current number of coins for each cryptocurrency asset held in the portfolio.\n",
    "btc_coins = 1.2\n",
    "eth_coins = 5.3"
   ]
  },
  {
   "cell_type": "markdown",
   "metadata": {},
   "source": [
    "Set the variable for the member's monthly household income"
   ]
  },
  {
   "cell_type": "code",
   "execution_count": 114,
   "metadata": {},
   "outputs": [],
   "source": [
    "# The monthly amount for the member's household income\n",
    "monthly_income = 12000"
   ]
  },
  {
   "cell_type": "markdown",
   "metadata": {},
   "source": [
    "Review the endpoint URLs for the API calls to Free Crypto API in order to get the current pricing information for both BTC and ETH."
   ]
  },
  {
   "cell_type": "code",
   "execution_count": 115,
   "metadata": {},
   "outputs": [],
   "source": [
    "# The Free Crypto API Call endpoint URLs for the held cryptocurrency assets\n",
    "btc_url = \"https://api.alternative.me/v2/ticker/Bitcoin/?convert=USD\"\n",
    "eth_url = \"https://api.alternative.me/v2/ticker/Ethereum/?convert=USD\""
   ]
  },
  {
   "cell_type": "markdown",
   "metadata": {},
   "source": [
    "Use the Requests library to get the current price (in US dollars) of Bitcoin (BTC) and Ethereum (ETH) by using the API endpoints that the starter code supplied."
   ]
  },
  {
   "cell_type": "code",
   "execution_count": 116,
   "metadata": {},
   "outputs": [
    {
     "name": "stdout",
     "output_type": "stream",
     "text": [
      "{\n",
      "    \"data\": {\n",
      "        \"1\": {\n",
      "            \"circulating_supply\": 19132175,\n",
      "            \"id\": 1,\n",
      "            \"last_updated\": 1661479452,\n",
      "            \"max_supply\": 21000000,\n",
      "            \"name\": \"Bitcoin\",\n",
      "            \"quotes\": {\n",
      "                \"USD\": {\n",
      "                    \"market_cap\": 412285467880,\n",
      "                    \"percent_change_1h\": 0.108112096463858,\n",
      "                    \"percent_change_24h\": -0.156703908402737,\n",
      "                    \"percent_change_7d\": -7.2854761473299,\n",
      "                    \"percentage_change_1h\": 0.108112096463858,\n",
      "                    \"percentage_change_24h\": -0.156703908402737,\n",
      "                    \"percentage_change_7d\": -7.2854761473299,\n",
      "                    \"price\": 21555.0,\n",
      "                    \"volume_24h\": 26954221766\n",
      "                }\n",
      "            },\n",
      "            \"rank\": 1,\n",
      "            \"symbol\": \"BTC\",\n",
      "            \"total_supply\": 19132175,\n",
      "            \"website_slug\": \"bitcoin\"\n",
      "        }\n",
      "    },\n",
      "    \"metadata\": {\n",
      "        \"error\": null,\n",
      "        \"num_cryptocurrencies\": 3116,\n",
      "        \"timestamp\": 1661479452\n",
      "    }\n",
      "}\n"
     ]
    }
   ],
   "source": [
    "# Using the Python requests library, make an API call to access the current price of BTC\n",
    "btc_response = requests.get(btc_url).json()\n",
    "\n",
    "# Use the json.dumps function to review the response data from the API call\n",
    "# Use the indent and sort_keys parameters to make the response object readable\n",
    "print(json.dumps(btc_response, indent=4, sort_keys=True))\n"
   ]
  },
  {
   "cell_type": "code",
   "execution_count": 117,
   "metadata": {},
   "outputs": [
    {
     "name": "stdout",
     "output_type": "stream",
     "text": [
      "{\n",
      "    \"data\": {\n",
      "        \"1027\": {\n",
      "            \"circulating_supply\": 120252023,\n",
      "            \"id\": 1027,\n",
      "            \"last_updated\": 1661479441,\n",
      "            \"max_supply\": 120252023,\n",
      "            \"name\": \"Ethereum\",\n",
      "            \"quotes\": {\n",
      "                \"USD\": {\n",
      "                    \"market_cap\": 202540477090,\n",
      "                    \"percent_change_1h\": 0.220750847373782,\n",
      "                    \"percent_change_24h\": 0.3798595673076,\n",
      "                    \"percent_change_7d\": -8.93844174041998,\n",
      "                    \"percentage_change_1h\": 0.220750847373782,\n",
      "                    \"percentage_change_24h\": 0.3798595673076,\n",
      "                    \"percentage_change_7d\": -8.93844174041998,\n",
      "                    \"price\": 1684.74,\n",
      "                    \"volume_24h\": 12959148163\n",
      "                }\n",
      "            },\n",
      "            \"rank\": 2,\n",
      "            \"symbol\": \"ETH\",\n",
      "            \"total_supply\": 120252023,\n",
      "            \"website_slug\": \"ethereum\"\n",
      "        }\n",
      "    },\n",
      "    \"metadata\": {\n",
      "        \"error\": null,\n",
      "        \"num_cryptocurrencies\": 3116,\n",
      "        \"timestamp\": 1661479441\n",
      "    }\n",
      "}\n"
     ]
    }
   ],
   "source": [
    "# Using the Python requests library, make an API call to access the current price ETH\n",
    "eth_response = requests.get(eth_url).json()\n",
    "\n",
    "# Use the json.dumps function to review the response data from the API call\n",
    "# Use the indent and sort_keys parameters to make the response object readable\n",
    "print(json.dumps(eth_response, indent=4, sort_keys=True))\n"
   ]
  },
  {
   "cell_type": "markdown",
   "metadata": {},
   "source": [
    "Navigate the JSON response object to access the current price of each coin, and store each in a variable."
   ]
  },
  {
   "cell_type": "code",
   "execution_count": 118,
   "metadata": {},
   "outputs": [
    {
     "name": "stdout",
     "output_type": "stream",
     "text": [
      "21555.0\n"
     ]
    }
   ],
   "source": [
    "# Navigate the BTC response object to access the current price of BTC\n",
    "btc_price = btc_response['data']['1']['quotes']['USD']['price']\n",
    "\n",
    "# Print the current price of BTC\n",
    "print(btc_price)\n"
   ]
  },
  {
   "cell_type": "code",
   "execution_count": 119,
   "metadata": {},
   "outputs": [
    {
     "name": "stdout",
     "output_type": "stream",
     "text": [
      "1684.74\n"
     ]
    }
   ],
   "source": [
    "# Navigate the BTC response object to access the current price of ETH\n",
    "eth_price = eth_response['data']['1027']['quotes']['USD']['price']\n",
    "\n",
    "# Print the current price of ETH\n",
    "print(eth_price)\n"
   ]
  },
  {
   "cell_type": "markdown",
   "metadata": {},
   "source": [
    "### Step 2: Calculate the value, in US dollars, of the current amount of each cryptocurrency and of the entire cryptocurrency wallet."
   ]
  },
  {
   "cell_type": "code",
   "execution_count": 120,
   "metadata": {},
   "outputs": [
    {
     "name": "stdout",
     "output_type": "stream",
     "text": [
      "25866.0\n"
     ]
    }
   ],
   "source": [
    "# Compute the current value of the BTC holding \n",
    "btc_value = btc_price * btc_coins\n",
    "\n",
    "# Print current value of your holding in BTC\n",
    "print(btc_value)\n"
   ]
  },
  {
   "cell_type": "code",
   "execution_count": 121,
   "metadata": {},
   "outputs": [
    {
     "name": "stdout",
     "output_type": "stream",
     "text": [
      "8929.122\n"
     ]
    }
   ],
   "source": [
    "# Compute the current value of the ETH holding \n",
    "eth_value = eth_price * eth_coins\n",
    "\n",
    "# Print current value of your holding in ETH\n",
    "print(eth_value)\n"
   ]
  },
  {
   "cell_type": "code",
   "execution_count": 122,
   "metadata": {},
   "outputs": [
    {
     "name": "stdout",
     "output_type": "stream",
     "text": [
      "34795.122\n"
     ]
    }
   ],
   "source": [
    "# Compute the total value of the cryptocurrency wallet\n",
    "# Add the value of the BTC holding to the value of the ETH holding\n",
    "total_crypto_wallet = btc_value + eth_value\n",
    "\n",
    "# Print current cryptocurrency wallet balance\n",
    "print(total_crypto_wallet)\n"
   ]
  },
  {
   "cell_type": "markdown",
   "metadata": {},
   "source": [
    "### Step 3: Retrieve pricing data for the stocks and bonds in the portfolio"
   ]
  },
  {
   "cell_type": "markdown",
   "metadata": {},
   "source": [
    "Review the total number of shares held in both (SPY) and (AGG)."
   ]
  },
  {
   "cell_type": "code",
   "execution_count": 123,
   "metadata": {},
   "outputs": [],
   "source": [
    "# Current amount of shares held in both the stock (SPY) and bond (AGG) portion of the portfolio.\n",
    "spy_shares = 110\n",
    "agg_shares = 200\n"
   ]
  },
  {
   "cell_type": "markdown",
   "metadata": {},
   "source": [
    "Create an environment file (`.env`) to store the values of your Alpaca API key and Alpaca secret key."
   ]
  },
  {
   "cell_type": "markdown",
   "metadata": {},
   "source": [
    "Set the variables for the Alpaca API and secret keys. Using the Alpaca SDK, create the Alpaca `tradeapi.REST` object."
   ]
  },
  {
   "cell_type": "code",
   "execution_count": 124,
   "metadata": {},
   "outputs": [],
   "source": [
    "# Set the variables for the Alpaca API and secret keys\n",
    "alpaca_api_key = os.getenv('alpaca_api_key')\n",
    "alpaca_secret_key = os.getenv('alpaca_secret_key')\n",
    "\n",
    "# Create the Alpaca tradeapi.REST object\n",
    "alpaca = tradeapi.REST(\n",
    "    alpaca_api_key,\n",
    "    alpaca_secret_key,\n",
    "    api_version='v2')\n"
   ]
  },
  {
   "cell_type": "markdown",
   "metadata": {},
   "source": [
    "Set the following parameters for the Alpaca API call:\n",
    "\n",
    "- `tickers`: Use the tickers for the member’s stock and bond holdings.\n",
    "\n",
    "- `timeframe`: Use a time frame of one day.\n",
    "\n",
    "- `start_date` and `end_date`: Use the same date for these parameters, and format them with the date of the previous weekday.\n"
   ]
  },
  {
   "cell_type": "code",
   "execution_count": 125,
   "metadata": {},
   "outputs": [],
   "source": [
    "# Set the tickers for both the bond and stock portion of the portfolio\n",
    "tickers = ['SPY', 'AGG']\n",
    "\n",
    "# Set timeframe to 1Day\n",
    "timeframe = '1Day'\n",
    "\n",
    "# Format current date as ISO format\n",
    "# Set both the start and end date at the date of your prior weekday \n",
    "# This will give you the closing price of the previous trading day\n",
    "# Alternatively you can use a start and end date of 2020-08-07\n",
    "start_date = pd.Timestamp('2022-08-24', tz='America/New_York').isoformat()\n",
    "end_date = pd.Timestamp('2022-08-24', tz='America/New_York').isoformat()"
   ]
  },
  {
   "cell_type": "markdown",
   "metadata": {},
   "source": [
    "Get the current closing prices for `SPY` and `AGG` by using the Alpaca `get_bars` function. Format the response as a Pandas DataFrame by including the `df` property at the end of the `get_bars` function."
   ]
  },
  {
   "cell_type": "code",
   "execution_count": 126,
   "metadata": {},
   "outputs": [
    {
     "data": {
      "text/html": [
       "<div>\n",
       "<style scoped>\n",
       "    .dataframe tbody tr th:only-of-type {\n",
       "        vertical-align: middle;\n",
       "    }\n",
       "\n",
       "    .dataframe tbody tr th {\n",
       "        vertical-align: top;\n",
       "    }\n",
       "\n",
       "    .dataframe thead tr th {\n",
       "        text-align: left;\n",
       "    }\n",
       "\n",
       "    .dataframe thead tr:last-of-type th {\n",
       "        text-align: right;\n",
       "    }\n",
       "</style>\n",
       "<table border=\"1\" class=\"dataframe\">\n",
       "  <thead>\n",
       "    <tr>\n",
       "      <th></th>\n",
       "      <th colspan=\"7\" halign=\"left\">SPY</th>\n",
       "      <th colspan=\"7\" halign=\"left\">AGG</th>\n",
       "    </tr>\n",
       "    <tr>\n",
       "      <th></th>\n",
       "      <th>open</th>\n",
       "      <th>high</th>\n",
       "      <th>low</th>\n",
       "      <th>close</th>\n",
       "      <th>volume</th>\n",
       "      <th>trade_count</th>\n",
       "      <th>vwap</th>\n",
       "      <th>open</th>\n",
       "      <th>high</th>\n",
       "      <th>low</th>\n",
       "      <th>close</th>\n",
       "      <th>volume</th>\n",
       "      <th>trade_count</th>\n",
       "      <th>vwap</th>\n",
       "    </tr>\n",
       "    <tr>\n",
       "      <th>timestamp</th>\n",
       "      <th></th>\n",
       "      <th></th>\n",
       "      <th></th>\n",
       "      <th></th>\n",
       "      <th></th>\n",
       "      <th></th>\n",
       "      <th></th>\n",
       "      <th></th>\n",
       "      <th></th>\n",
       "      <th></th>\n",
       "      <th></th>\n",
       "      <th></th>\n",
       "      <th></th>\n",
       "      <th></th>\n",
       "    </tr>\n",
       "  </thead>\n",
       "  <tbody>\n",
       "    <tr>\n",
       "      <th>2022-08-24 04:00:00+00:00</th>\n",
       "      <td>412.1</td>\n",
       "      <td>415.1101</td>\n",
       "      <td>411.39</td>\n",
       "      <td>413.67</td>\n",
       "      <td>48983049</td>\n",
       "      <td>334281</td>\n",
       "      <td>413.383226</td>\n",
       "      <td>101.35</td>\n",
       "      <td>101.395</td>\n",
       "      <td>101.15</td>\n",
       "      <td>101.24</td>\n",
       "      <td>5397673</td>\n",
       "      <td>19881</td>\n",
       "      <td>101.259133</td>\n",
       "    </tr>\n",
       "  </tbody>\n",
       "</table>\n",
       "</div>"
      ],
      "text/plain": [
       "                             SPY                                      \\\n",
       "                            open      high     low   close    volume   \n",
       "timestamp                                                              \n",
       "2022-08-24 04:00:00+00:00  412.1  415.1101  411.39  413.67  48983049   \n",
       "\n",
       "                                                      AGG                   \\\n",
       "                          trade_count        vwap    open     high     low   \n",
       "timestamp                                                                    \n",
       "2022-08-24 04:00:00+00:00      334281  413.383226  101.35  101.395  101.15   \n",
       "\n",
       "                                                                    \n",
       "                            close   volume trade_count        vwap  \n",
       "timestamp                                                           \n",
       "2022-08-24 04:00:00+00:00  101.24  5397673       19881  101.259133  "
      ]
     },
     "execution_count": 126,
     "metadata": {},
     "output_type": "execute_result"
    }
   ],
   "source": [
    "# Use the Alpaca get_bars function to get current closing prices the portfolio\n",
    "# Be sure to set the `df` property after the function to format the response object as a DataFrame\n",
    "prices_df = alpaca.get_bars(\n",
    "    tickers,\n",
    "    timeframe,\n",
    "    start=start_date,\n",
    "    end=end_date\n",
    ").df\n",
    "# Reorganize the DataFrame\n",
    "# Separate ticker data\n",
    "SPY = prices_df[prices_df['symbol']=='SPY'].drop('symbol', axis=1)\n",
    "AGG = prices_df[prices_df['symbol']=='AGG'].drop('symbol', axis=1)\n",
    "# Concatenate the ticker DataFrames\n",
    "prices_df = pd.concat([SPY, AGG], axis=1, keys=['SPY', 'AGG'])\n",
    "\n",
    "# Review the first 5 rows of the Alpaca DataFrame\n",
    "prices_df.head()\n"
   ]
  },
  {
   "cell_type": "markdown",
   "metadata": {},
   "source": [
    "Navigating the Alpaca response DataFrame, select the `SPY` and `AGG` closing prices, and store them as variables."
   ]
  },
  {
   "cell_type": "code",
   "execution_count": 127,
   "metadata": {},
   "outputs": [
    {
     "name": "stdout",
     "output_type": "stream",
     "text": [
      "timestamp\n",
      "2022-08-24 04:00:00+00:00    101.24\n",
      "Name: close, dtype: float64\n"
     ]
    }
   ],
   "source": [
    "# Access the closing price for AGG from the Alpaca DataFrame\n",
    "# Converting the value to a floating point number\n",
    "agg_close_price = prices_df['AGG']['close']\n",
    "\n",
    "# Print the AGG closing price\n",
    "print(agg_close_price)\n"
   ]
  },
  {
   "cell_type": "code",
   "execution_count": 128,
   "metadata": {},
   "outputs": [
    {
     "name": "stdout",
     "output_type": "stream",
     "text": [
      "timestamp\n",
      "2022-08-24 04:00:00+00:00    413.67\n",
      "Name: close, dtype: float64\n"
     ]
    }
   ],
   "source": [
    "# Access the closing price for SPY from the Alpaca DataFrame\n",
    "# Converting the value to a floating point number\n",
    "spy_close_price = prices_df['SPY']['close']\n",
    "\n",
    "# Print the SPY closing price\n",
    "print(spy_close_price)\n"
   ]
  },
  {
   "cell_type": "markdown",
   "metadata": {},
   "source": [
    "### Step 4: Calculate the value, in US dollars, of the current amount of shares in each of the stock and bond portions of the portfolio, and print the results."
   ]
  },
  {
   "cell_type": "code",
   "execution_count": 129,
   "metadata": {},
   "outputs": [
    {
     "name": "stdout",
     "output_type": "stream",
     "text": [
      "timestamp\n",
      "2022-08-24 04:00:00+00:00    20248.0\n",
      "Name: close, dtype: float64\n"
     ]
    }
   ],
   "source": [
    "# Calculate the current value of the bond portion of the portfolio\n",
    "agg_value = agg_close_price * agg_shares\n",
    "\n",
    "# Print the current value of the bond portfolio\n",
    "print(agg_value)\n"
   ]
  },
  {
   "cell_type": "code",
   "execution_count": 130,
   "metadata": {},
   "outputs": [
    {
     "name": "stdout",
     "output_type": "stream",
     "text": [
      "timestamp\n",
      "2022-08-24 04:00:00+00:00    45503.7\n",
      "Name: close, dtype: float64\n"
     ]
    }
   ],
   "source": [
    "# Calculate the current value of the stock portion of the portfolio\n",
    "spy_value = spy_close_price * spy_shares\n",
    "\n",
    "# Print the current value of the stock portfolio\n",
    "print(spy_value)\n"
   ]
  },
  {
   "cell_type": "code",
   "execution_count": 131,
   "metadata": {},
   "outputs": [
    {
     "name": "stdout",
     "output_type": "stream",
     "text": [
      "65751.70000000001\n"
     ]
    }
   ],
   "source": [
    "# Calculate the total value of the stock and bond portion of the portfolio\n",
    "total_stocks_bonds = float(agg_value + spy_value)\n",
    "\n",
    "# Print the current balance of the stock and bond portion of the portfolio\n",
    "print(total_stocks_bonds)\n"
   ]
  },
  {
   "cell_type": "code",
   "execution_count": 132,
   "metadata": {},
   "outputs": [
    {
     "name": "stdout",
     "output_type": "stream",
     "text": [
      "100546.82200000001\n"
     ]
    }
   ],
   "source": [
    "# Calculate the total value of the member's entire savings portfolio\n",
    "# Add the value of the cryptocurrency walled to the value of the total stocks and bonds\n",
    "total_portfolio = total_stocks_bonds + total_crypto_wallet\n",
    "\n",
    "# Print current total portfolio value\n",
    "print(total_portfolio)\n"
   ]
  },
  {
   "cell_type": "markdown",
   "metadata": {},
   "source": [
    "### Step 5: Evaluate the Emergency Fund"
   ]
  },
  {
   "cell_type": "markdown",
   "metadata": {},
   "source": [
    "Create a Python list named `savings_data` that has two elements. The first element contains the total value of the cryptocurrency wallet. The second element contains the total value of the stock and bond portions of the portfolio."
   ]
  },
  {
   "cell_type": "code",
   "execution_count": 133,
   "metadata": {},
   "outputs": [
    {
     "data": {
      "text/plain": [
       "[65751.70000000001, 34795.122]"
      ]
     },
     "execution_count": 133,
     "metadata": {},
     "output_type": "execute_result"
    }
   ],
   "source": [
    "# Consolidate financial assets data into a Python list\n",
    "savings_data = [total_stocks_bonds, total_crypto_wallet]\n",
    "\n",
    "# Review the Python list savings_data\n",
    "savings_data\n",
    "    "
   ]
  },
  {
   "cell_type": "markdown",
   "metadata": {},
   "source": [
    "Use the `savings_data` list to create a Pandas DataFrame named `savings_df`, and then display this DataFrame. The function to create the DataFrame should take the following three parameters:\n",
    "\n",
    "- `savings_data`: Use the list that you just created.\n",
    "\n",
    "- `columns`: Set this parameter equal to a Python list with a single value called `amount`.\n",
    "\n",
    "- `index`: Set this parameter equal to a Python list with the values of `crypto` and `stock/bond`.\n"
   ]
  },
  {
   "cell_type": "code",
   "execution_count": 134,
   "metadata": {},
   "outputs": [
    {
     "data": {
      "text/html": [
       "<div>\n",
       "<style scoped>\n",
       "    .dataframe tbody tr th:only-of-type {\n",
       "        vertical-align: middle;\n",
       "    }\n",
       "\n",
       "    .dataframe tbody tr th {\n",
       "        vertical-align: top;\n",
       "    }\n",
       "\n",
       "    .dataframe thead th {\n",
       "        text-align: right;\n",
       "    }\n",
       "</style>\n",
       "<table border=\"1\" class=\"dataframe\">\n",
       "  <thead>\n",
       "    <tr style=\"text-align: right;\">\n",
       "      <th></th>\n",
       "      <th>amount</th>\n",
       "    </tr>\n",
       "  </thead>\n",
       "  <tbody>\n",
       "    <tr>\n",
       "      <th>stock/bond</th>\n",
       "      <td>65751.700</td>\n",
       "    </tr>\n",
       "    <tr>\n",
       "      <th>crypto</th>\n",
       "      <td>34795.122</td>\n",
       "    </tr>\n",
       "  </tbody>\n",
       "</table>\n",
       "</div>"
      ],
      "text/plain": [
       "               amount\n",
       "stock/bond  65751.700\n",
       "crypto      34795.122"
      ]
     },
     "execution_count": 134,
     "metadata": {},
     "output_type": "execute_result"
    }
   ],
   "source": [
    "# Create a Pandas DataFrame called savings_df \n",
    "savings_df = pd.DataFrame(savings_data)\n",
    "columns = ['amount']\n",
    "index = ['stock/bond', 'crypto']\n",
    "# Display the savings_df DataFrame\n",
    "savings_df.columns=columns\n",
    "savings_df.index=index\n",
    "savings_df"
   ]
  },
  {
   "cell_type": "markdown",
   "metadata": {},
   "source": [
    "Use the `savings_df` DataFrame to plot a pie chart that visualizes the composition of the member’s portfolio. The y-axis of the pie chart uses `amount`. Be sure to add a title."
   ]
  },
  {
   "cell_type": "code",
   "execution_count": 135,
   "metadata": {},
   "outputs": [
    {
     "data": {
      "text/plain": [
       "<AxesSubplot:title={'center':'Portfolio Composition - 2022-08-24'}, ylabel='amount'>"
      ]
     },
     "execution_count": 135,
     "metadata": {},
     "output_type": "execute_result"
    },
    {
     "data": {
      "image/png": "[encoded data removed]",
      "text/plain": [
       "<Figure size 432x288 with 1 Axes>"
      ]
     },
     "metadata": {},
     "output_type": "display_data"
    }
   ],
   "source": [
    "# Plot the total value of the member's portfolio (crypto and stock/bond) in a pie chart\n",
    "savings_df.plot.pie(y='amount', title='Portfolio Composition - 2022-08-24')"
   ]
  },
  {
   "cell_type": "markdown",
   "metadata": {},
   "source": [
    "#### Using Python, determine if the current portfolio has enough to create an emergency fund as part of the member’s financial plan. Ideally, an emergency fund should equal to three times the member’s monthly income."
   ]
  },
  {
   "cell_type": "markdown",
   "metadata": {},
   "source": [
    "Create a variable named `emergency_fund_value`, and set it equal to three times the value of the member’s `monthly_income` of 12000."
   ]
  },
  {
   "cell_type": "code",
   "execution_count": 136,
   "metadata": {},
   "outputs": [],
   "source": [
    "# Create a variable named emergency_fund_value\n",
    "emergency_fund_value = monthly_income * 3\n"
   ]
  },
  {
   "cell_type": "markdown",
   "metadata": {},
   "source": [
    "Create a series of three if statements to determine if the member’s total portfolio is large enough to fund the emergency portfolio:\n",
    "\n",
    "* If the total portfolio value is greater than the emergency fund value, display a message congratulating the member for having enough money in this fund.\n",
    "\n",
    "* Else if the total portfolio value is equal to the emergency fund value, display a message congratulating the member on reaching this important financial goal.\n",
    "\n",
    "* Else the total portfolio is less than the emergency fund value, so display a message showing how many dollars away the member is from reaching the goal. (Subtract the total portfolio value from the emergency fund value.)"
   ]
  },
  {
   "cell_type": "code",
   "execution_count": 137,
   "metadata": {},
   "outputs": [
    {
     "name": "stdout",
     "output_type": "stream",
     "text": [
      "Congratulations! You have enough money in your emergency fund!\n"
     ]
    }
   ],
   "source": [
    "# Evaluate the possibility of creating an emergency fund with 3 conditions:\n",
    "if total_portfolio > emergency_fund_value:\n",
    "    print('Congratulations! You have enough money in your emergency fund!')\n",
    "elif total_portfolio == emergency_fund_value:\n",
    "    print('Congratulations on reaching the goal of creating an emergency fund!')\n",
    "else:\n",
    "    print(f'You need {emergency_fund_value - total_portfolio} more dollars to reach your goal.')\n"
   ]
  },
  {
   "cell_type": "markdown",
   "metadata": {},
   "source": [
    "## Part 2: Create a Financial Planner for Retirement\n",
    "Deciding when to retire is a significant life decision. As such, it is important to start planning for retirement early. This tool allows the user to simulate possible outcomes of different retirement portfolios over various time periods in order to determine when it would be possible to retire."
   ]
  },
  {
   "cell_type": "markdown",
   "metadata": {},
   "source": [
    "### Step 1: Retrieve historical data for the two stocks in the member's portfolio to use as input for the simulation"
   ]
  },
  {
   "cell_type": "markdown",
   "metadata": {},
   "source": [
    "Make an API call via the Alpaca SDK to get 3 years of historical closing prices for a traditional 60/40 portfolio split: 60% stocks (SPY) and 40% bonds (AGG)."
   ]
  },
  {
   "cell_type": "code",
   "execution_count": 138,
   "metadata": {},
   "outputs": [],
   "source": [
    "# Set start and end dates of 3 years back from your current date\n",
    "# Alternatively, you can use an end date of 2020-08-07 and work 3 years back from that date \n",
    "start_3_year = pd.Timestamp('2019-08-24', tz='America/New_York').isoformat()"
   ]
  },
  {
   "cell_type": "code",
   "execution_count": 139,
   "metadata": {},
   "outputs": [
    {
     "data": {
      "text/html": [
       "<div>\n",
       "<style scoped>\n",
       "    .dataframe tbody tr th:only-of-type {\n",
       "        vertical-align: middle;\n",
       "    }\n",
       "\n",
       "    .dataframe tbody tr th {\n",
       "        vertical-align: top;\n",
       "    }\n",
       "\n",
       "    .dataframe thead tr th {\n",
       "        text-align: left;\n",
       "    }\n",
       "\n",
       "    .dataframe thead tr:last-of-type th {\n",
       "        text-align: right;\n",
       "    }\n",
       "</style>\n",
       "<table border=\"1\" class=\"dataframe\">\n",
       "  <thead>\n",
       "    <tr>\n",
       "      <th></th>\n",
       "      <th colspan=\"7\" halign=\"left\">SPY</th>\n",
       "      <th colspan=\"7\" halign=\"left\">AGG</th>\n",
       "    </tr>\n",
       "    <tr>\n",
       "      <th></th>\n",
       "      <th>open</th>\n",
       "      <th>high</th>\n",
       "      <th>low</th>\n",
       "      <th>close</th>\n",
       "      <th>volume</th>\n",
       "      <th>trade_count</th>\n",
       "      <th>vwap</th>\n",
       "      <th>open</th>\n",
       "      <th>high</th>\n",
       "      <th>low</th>\n",
       "      <th>close</th>\n",
       "      <th>volume</th>\n",
       "      <th>trade_count</th>\n",
       "      <th>vwap</th>\n",
       "    </tr>\n",
       "    <tr>\n",
       "      <th>timestamp</th>\n",
       "      <th></th>\n",
       "      <th></th>\n",
       "      <th></th>\n",
       "      <th></th>\n",
       "      <th></th>\n",
       "      <th></th>\n",
       "      <th></th>\n",
       "      <th></th>\n",
       "      <th></th>\n",
       "      <th></th>\n",
       "      <th></th>\n",
       "      <th></th>\n",
       "      <th></th>\n",
       "      <th></th>\n",
       "    </tr>\n",
       "  </thead>\n",
       "  <tbody>\n",
       "    <tr>\n",
       "      <th>2019-08-26 04:00:00+00:00</th>\n",
       "      <td>287.24</td>\n",
       "      <td>288.0000</td>\n",
       "      <td>285.58</td>\n",
       "      <td>288.00</td>\n",
       "      <td>72674040</td>\n",
       "      <td>348875</td>\n",
       "      <td>286.979104</td>\n",
       "      <td>113.84</td>\n",
       "      <td>113.95</td>\n",
       "      <td>113.670</td>\n",
       "      <td>113.73</td>\n",
       "      <td>5128260</td>\n",
       "      <td>15135</td>\n",
       "      <td>113.784547</td>\n",
       "    </tr>\n",
       "    <tr>\n",
       "      <th>2019-08-27 04:00:00+00:00</th>\n",
       "      <td>289.55</td>\n",
       "      <td>289.9500</td>\n",
       "      <td>286.03</td>\n",
       "      <td>286.87</td>\n",
       "      <td>68307923</td>\n",
       "      <td>346860</td>\n",
       "      <td>287.694466</td>\n",
       "      <td>113.91</td>\n",
       "      <td>114.12</td>\n",
       "      <td>113.870</td>\n",
       "      <td>114.09</td>\n",
       "      <td>3473405</td>\n",
       "      <td>9933</td>\n",
       "      <td>114.062880</td>\n",
       "    </tr>\n",
       "    <tr>\n",
       "      <th>2019-08-28 04:00:00+00:00</th>\n",
       "      <td>286.10</td>\n",
       "      <td>289.0700</td>\n",
       "      <td>285.25</td>\n",
       "      <td>288.89</td>\n",
       "      <td>60200590</td>\n",
       "      <td>311534</td>\n",
       "      <td>287.877722</td>\n",
       "      <td>114.30</td>\n",
       "      <td>114.30</td>\n",
       "      <td>114.040</td>\n",
       "      <td>114.10</td>\n",
       "      <td>5102472</td>\n",
       "      <td>15819</td>\n",
       "      <td>114.130072</td>\n",
       "    </tr>\n",
       "    <tr>\n",
       "      <th>2019-08-29 04:00:00+00:00</th>\n",
       "      <td>291.77</td>\n",
       "      <td>293.1600</td>\n",
       "      <td>290.61</td>\n",
       "      <td>292.58</td>\n",
       "      <td>58018751</td>\n",
       "      <td>309986</td>\n",
       "      <td>292.211021</td>\n",
       "      <td>114.08</td>\n",
       "      <td>114.08</td>\n",
       "      <td>113.835</td>\n",
       "      <td>114.03</td>\n",
       "      <td>2670969</td>\n",
       "      <td>11548</td>\n",
       "      <td>113.955831</td>\n",
       "    </tr>\n",
       "    <tr>\n",
       "      <th>2019-08-30 04:00:00+00:00</th>\n",
       "      <td>294.21</td>\n",
       "      <td>294.2399</td>\n",
       "      <td>291.42</td>\n",
       "      <td>292.45</td>\n",
       "      <td>63024780</td>\n",
       "      <td>303476</td>\n",
       "      <td>292.713824</td>\n",
       "      <td>113.90</td>\n",
       "      <td>114.15</td>\n",
       "      <td>113.890</td>\n",
       "      <td>114.13</td>\n",
       "      <td>4661629</td>\n",
       "      <td>11279</td>\n",
       "      <td>114.025187</td>\n",
       "    </tr>\n",
       "  </tbody>\n",
       "</table>\n",
       "</div>"
      ],
      "text/plain": [
       "                              SPY                                      \\\n",
       "                             open      high     low   close    volume   \n",
       "timestamp                                                               \n",
       "2019-08-26 04:00:00+00:00  287.24  288.0000  285.58  288.00  72674040   \n",
       "2019-08-27 04:00:00+00:00  289.55  289.9500  286.03  286.87  68307923   \n",
       "2019-08-28 04:00:00+00:00  286.10  289.0700  285.25  288.89  60200590   \n",
       "2019-08-29 04:00:00+00:00  291.77  293.1600  290.61  292.58  58018751   \n",
       "2019-08-30 04:00:00+00:00  294.21  294.2399  291.42  292.45  63024780   \n",
       "\n",
       "                                                      AGG                   \\\n",
       "                          trade_count        vwap    open    high      low   \n",
       "timestamp                                                                    \n",
       "2019-08-26 04:00:00+00:00      348875  286.979104  113.84  113.95  113.670   \n",
       "2019-08-27 04:00:00+00:00      346860  287.694466  113.91  114.12  113.870   \n",
       "2019-08-28 04:00:00+00:00      311534  287.877722  114.30  114.30  114.040   \n",
       "2019-08-29 04:00:00+00:00      309986  292.211021  114.08  114.08  113.835   \n",
       "2019-08-30 04:00:00+00:00      303476  292.713824  113.90  114.15  113.890   \n",
       "\n",
       "                                                                    \n",
       "                            close   volume trade_count        vwap  \n",
       "timestamp                                                           \n",
       "2019-08-26 04:00:00+00:00  113.73  5128260       15135  113.784547  \n",
       "2019-08-27 04:00:00+00:00  114.09  3473405        9933  114.062880  \n",
       "2019-08-28 04:00:00+00:00  114.10  5102472       15819  114.130072  \n",
       "2019-08-29 04:00:00+00:00  114.03  2670969       11548  113.955831  \n",
       "2019-08-30 04:00:00+00:00  114.13  4661629       11279  114.025187  "
      ]
     },
     "metadata": {},
     "output_type": "display_data"
    },
    {
     "data": {
      "text/html": [
       "<div>\n",
       "<style scoped>\n",
       "    .dataframe tbody tr th:only-of-type {\n",
       "        vertical-align: middle;\n",
       "    }\n",
       "\n",
       "    .dataframe tbody tr th {\n",
       "        vertical-align: top;\n",
       "    }\n",
       "\n",
       "    .dataframe thead tr th {\n",
       "        text-align: left;\n",
       "    }\n",
       "\n",
       "    .dataframe thead tr:last-of-type th {\n",
       "        text-align: right;\n",
       "    }\n",
       "</style>\n",
       "<table border=\"1\" class=\"dataframe\">\n",
       "  <thead>\n",
       "    <tr>\n",
       "      <th></th>\n",
       "      <th colspan=\"7\" halign=\"left\">SPY</th>\n",
       "      <th colspan=\"7\" halign=\"left\">AGG</th>\n",
       "    </tr>\n",
       "    <tr>\n",
       "      <th></th>\n",
       "      <th>open</th>\n",
       "      <th>high</th>\n",
       "      <th>low</th>\n",
       "      <th>close</th>\n",
       "      <th>volume</th>\n",
       "      <th>trade_count</th>\n",
       "      <th>vwap</th>\n",
       "      <th>open</th>\n",
       "      <th>high</th>\n",
       "      <th>low</th>\n",
       "      <th>close</th>\n",
       "      <th>volume</th>\n",
       "      <th>trade_count</th>\n",
       "      <th>vwap</th>\n",
       "    </tr>\n",
       "    <tr>\n",
       "      <th>timestamp</th>\n",
       "      <th></th>\n",
       "      <th></th>\n",
       "      <th></th>\n",
       "      <th></th>\n",
       "      <th></th>\n",
       "      <th></th>\n",
       "      <th></th>\n",
       "      <th></th>\n",
       "      <th></th>\n",
       "      <th></th>\n",
       "      <th></th>\n",
       "      <th></th>\n",
       "      <th></th>\n",
       "      <th></th>\n",
       "    </tr>\n",
       "  </thead>\n",
       "  <tbody>\n",
       "    <tr>\n",
       "      <th>2022-08-18 04:00:00+00:00</th>\n",
       "      <td>426.78</td>\n",
       "      <td>428.6100</td>\n",
       "      <td>425.50</td>\n",
       "      <td>427.89</td>\n",
       "      <td>47948507</td>\n",
       "      <td>331980</td>\n",
       "      <td>427.137042</td>\n",
       "      <td>102.70</td>\n",
       "      <td>102.9300</td>\n",
       "      <td>102.640</td>\n",
       "      <td>102.71</td>\n",
       "      <td>3838685</td>\n",
       "      <td>15666</td>\n",
       "      <td>102.773638</td>\n",
       "    </tr>\n",
       "    <tr>\n",
       "      <th>2022-08-19 04:00:00+00:00</th>\n",
       "      <td>424.87</td>\n",
       "      <td>425.2600</td>\n",
       "      <td>421.22</td>\n",
       "      <td>422.14</td>\n",
       "      <td>67861630</td>\n",
       "      <td>438953</td>\n",
       "      <td>423.097019</td>\n",
       "      <td>102.13</td>\n",
       "      <td>102.1300</td>\n",
       "      <td>101.845</td>\n",
       "      <td>101.99</td>\n",
       "      <td>4567988</td>\n",
       "      <td>14353</td>\n",
       "      <td>101.981855</td>\n",
       "    </tr>\n",
       "    <tr>\n",
       "      <th>2022-08-22 04:00:00+00:00</th>\n",
       "      <td>417.04</td>\n",
       "      <td>417.2300</td>\n",
       "      <td>412.40</td>\n",
       "      <td>413.35</td>\n",
       "      <td>77604197</td>\n",
       "      <td>484052</td>\n",
       "      <td>415.048519</td>\n",
       "      <td>101.82</td>\n",
       "      <td>101.8900</td>\n",
       "      <td>101.515</td>\n",
       "      <td>101.55</td>\n",
       "      <td>7132742</td>\n",
       "      <td>24710</td>\n",
       "      <td>101.702316</td>\n",
       "    </tr>\n",
       "    <tr>\n",
       "      <th>2022-08-23 04:00:00+00:00</th>\n",
       "      <td>412.96</td>\n",
       "      <td>415.4200</td>\n",
       "      <td>411.77</td>\n",
       "      <td>412.35</td>\n",
       "      <td>48952606</td>\n",
       "      <td>389397</td>\n",
       "      <td>413.095826</td>\n",
       "      <td>101.54</td>\n",
       "      <td>101.9671</td>\n",
       "      <td>101.400</td>\n",
       "      <td>101.51</td>\n",
       "      <td>6531916</td>\n",
       "      <td>21473</td>\n",
       "      <td>101.686417</td>\n",
       "    </tr>\n",
       "    <tr>\n",
       "      <th>2022-08-24 04:00:00+00:00</th>\n",
       "      <td>412.10</td>\n",
       "      <td>415.1101</td>\n",
       "      <td>411.39</td>\n",
       "      <td>413.67</td>\n",
       "      <td>48983049</td>\n",
       "      <td>334281</td>\n",
       "      <td>413.383226</td>\n",
       "      <td>101.35</td>\n",
       "      <td>101.3950</td>\n",
       "      <td>101.150</td>\n",
       "      <td>101.24</td>\n",
       "      <td>5397673</td>\n",
       "      <td>19881</td>\n",
       "      <td>101.259133</td>\n",
       "    </tr>\n",
       "  </tbody>\n",
       "</table>\n",
       "</div>"
      ],
      "text/plain": [
       "                              SPY                                      \\\n",
       "                             open      high     low   close    volume   \n",
       "timestamp                                                               \n",
       "2022-08-18 04:00:00+00:00  426.78  428.6100  425.50  427.89  47948507   \n",
       "2022-08-19 04:00:00+00:00  424.87  425.2600  421.22  422.14  67861630   \n",
       "2022-08-22 04:00:00+00:00  417.04  417.2300  412.40  413.35  77604197   \n",
       "2022-08-23 04:00:00+00:00  412.96  415.4200  411.77  412.35  48952606   \n",
       "2022-08-24 04:00:00+00:00  412.10  415.1101  411.39  413.67  48983049   \n",
       "\n",
       "                                                      AGG                     \\\n",
       "                          trade_count        vwap    open      high      low   \n",
       "timestamp                                                                      \n",
       "2022-08-18 04:00:00+00:00      331980  427.137042  102.70  102.9300  102.640   \n",
       "2022-08-19 04:00:00+00:00      438953  423.097019  102.13  102.1300  101.845   \n",
       "2022-08-22 04:00:00+00:00      484052  415.048519  101.82  101.8900  101.515   \n",
       "2022-08-23 04:00:00+00:00      389397  413.095826  101.54  101.9671  101.400   \n",
       "2022-08-24 04:00:00+00:00      334281  413.383226  101.35  101.3950  101.150   \n",
       "\n",
       "                                                                    \n",
       "                            close   volume trade_count        vwap  \n",
       "timestamp                                                           \n",
       "2022-08-18 04:00:00+00:00  102.71  3838685       15666  102.773638  \n",
       "2022-08-19 04:00:00+00:00  101.99  4567988       14353  101.981855  \n",
       "2022-08-22 04:00:00+00:00  101.55  7132742       24710  101.702316  \n",
       "2022-08-23 04:00:00+00:00  101.51  6531916       21473  101.686417  \n",
       "2022-08-24 04:00:00+00:00  101.24  5397673       19881  101.259133  "
      ]
     },
     "metadata": {},
     "output_type": "display_data"
    }
   ],
   "source": [
    "# Use the Alpaca get_bars function to make the API call to get the 3 years worth of pricing data\n",
    "# The tickers and timeframe parameters should have been set in Part 1 of this activity \n",
    "# The start and end dates should be updated with the information set above\n",
    "# Remember to add the df property to the end of the call so the response is returned as a DataFrame\n",
    "prices_3_year = alpaca.get_bars(\n",
    "    tickers,\n",
    "    timeframe,\n",
    "    start=start_3_year,\n",
    "    end=end_date\n",
    ").df\n",
    "\n",
    "# Reorganize the DataFrame\n",
    "SPY_3_year = prices_3_year[prices_3_year['symbol']=='SPY'].drop('symbol', axis=1)\n",
    "AGG_3_year = prices_3_year[prices_3_year['symbol']=='AGG'].drop('symbol', axis=1)\n",
    "\n",
    "\n",
    "# Concatenate the ticker DataFrames\n",
    "prices_3_year = pd.concat([SPY_3_year, AGG_3_year], axis=1, keys=['SPY', 'AGG'])\n",
    "\n",
    "# Display both the first and last five rows of the DataFrame\n",
    "display(prices_3_year.head())\n",
    "display(prices_3_year.tail())\n"
   ]
  },
  {
   "cell_type": "markdown",
   "metadata": {},
   "source": [
    "### Step 2: Run a Monte Carlo simulation of 500 samples and 30 years for the 60/40 portfolio, and then plot the results."
   ]
  },
  {
   "cell_type": "code",
   "execution_count": 161,
   "metadata": {},
   "outputs": [
    {
     "data": {
      "text/html": [
       "<div>\n",
       "<style scoped>\n",
       "    .dataframe tbody tr th:only-of-type {\n",
       "        vertical-align: middle;\n",
       "    }\n",
       "\n",
       "    .dataframe tbody tr th {\n",
       "        vertical-align: top;\n",
       "    }\n",
       "\n",
       "    .dataframe thead tr th {\n",
       "        text-align: left;\n",
       "    }\n",
       "\n",
       "    .dataframe thead tr:last-of-type th {\n",
       "        text-align: right;\n",
       "    }\n",
       "</style>\n",
       "<table border=\"1\" class=\"dataframe\">\n",
       "  <thead>\n",
       "    <tr>\n",
       "      <th></th>\n",
       "      <th colspan=\"8\" halign=\"left\">SPY</th>\n",
       "      <th colspan=\"8\" halign=\"left\">AGG</th>\n",
       "    </tr>\n",
       "    <tr>\n",
       "      <th></th>\n",
       "      <th>open</th>\n",
       "      <th>high</th>\n",
       "      <th>low</th>\n",
       "      <th>close</th>\n",
       "      <th>volume</th>\n",
       "      <th>trade_count</th>\n",
       "      <th>vwap</th>\n",
       "      <th>daily_return</th>\n",
       "      <th>open</th>\n",
       "      <th>high</th>\n",
       "      <th>low</th>\n",
       "      <th>close</th>\n",
       "      <th>volume</th>\n",
       "      <th>trade_count</th>\n",
       "      <th>vwap</th>\n",
       "      <th>daily_return</th>\n",
       "    </tr>\n",
       "    <tr>\n",
       "      <th>timestamp</th>\n",
       "      <th></th>\n",
       "      <th></th>\n",
       "      <th></th>\n",
       "      <th></th>\n",
       "      <th></th>\n",
       "      <th></th>\n",
       "      <th></th>\n",
       "      <th></th>\n",
       "      <th></th>\n",
       "      <th></th>\n",
       "      <th></th>\n",
       "      <th></th>\n",
       "      <th></th>\n",
       "      <th></th>\n",
       "      <th></th>\n",
       "      <th></th>\n",
       "    </tr>\n",
       "  </thead>\n",
       "  <tbody>\n",
       "    <tr>\n",
       "      <th>2019-08-26 04:00:00+00:00</th>\n",
       "      <td>287.24</td>\n",
       "      <td>288.0000</td>\n",
       "      <td>285.58</td>\n",
       "      <td>288.00</td>\n",
       "      <td>72674040</td>\n",
       "      <td>348875</td>\n",
       "      <td>286.979104</td>\n",
       "      <td>NaN</td>\n",
       "      <td>113.84</td>\n",
       "      <td>113.95</td>\n",
       "      <td>113.670</td>\n",
       "      <td>113.73</td>\n",
       "      <td>5128260</td>\n",
       "      <td>15135</td>\n",
       "      <td>113.784547</td>\n",
       "      <td>NaN</td>\n",
       "    </tr>\n",
       "    <tr>\n",
       "      <th>2019-08-27 04:00:00+00:00</th>\n",
       "      <td>289.55</td>\n",
       "      <td>289.9500</td>\n",
       "      <td>286.03</td>\n",
       "      <td>286.87</td>\n",
       "      <td>68307923</td>\n",
       "      <td>346860</td>\n",
       "      <td>287.694466</td>\n",
       "      <td>-0.003924</td>\n",
       "      <td>113.91</td>\n",
       "      <td>114.12</td>\n",
       "      <td>113.870</td>\n",
       "      <td>114.09</td>\n",
       "      <td>3473405</td>\n",
       "      <td>9933</td>\n",
       "      <td>114.062880</td>\n",
       "      <td>0.003165</td>\n",
       "    </tr>\n",
       "    <tr>\n",
       "      <th>2019-08-28 04:00:00+00:00</th>\n",
       "      <td>286.10</td>\n",
       "      <td>289.0700</td>\n",
       "      <td>285.25</td>\n",
       "      <td>288.89</td>\n",
       "      <td>60200590</td>\n",
       "      <td>311534</td>\n",
       "      <td>287.877722</td>\n",
       "      <td>0.007042</td>\n",
       "      <td>114.30</td>\n",
       "      <td>114.30</td>\n",
       "      <td>114.040</td>\n",
       "      <td>114.10</td>\n",
       "      <td>5102472</td>\n",
       "      <td>15819</td>\n",
       "      <td>114.130072</td>\n",
       "      <td>0.000088</td>\n",
       "    </tr>\n",
       "    <tr>\n",
       "      <th>2019-08-29 04:00:00+00:00</th>\n",
       "      <td>291.77</td>\n",
       "      <td>293.1600</td>\n",
       "      <td>290.61</td>\n",
       "      <td>292.58</td>\n",
       "      <td>58018751</td>\n",
       "      <td>309986</td>\n",
       "      <td>292.211021</td>\n",
       "      <td>0.012773</td>\n",
       "      <td>114.08</td>\n",
       "      <td>114.08</td>\n",
       "      <td>113.835</td>\n",
       "      <td>114.03</td>\n",
       "      <td>2670969</td>\n",
       "      <td>11548</td>\n",
       "      <td>113.955831</td>\n",
       "      <td>-0.000613</td>\n",
       "    </tr>\n",
       "    <tr>\n",
       "      <th>2019-08-30 04:00:00+00:00</th>\n",
       "      <td>294.21</td>\n",
       "      <td>294.2399</td>\n",
       "      <td>291.42</td>\n",
       "      <td>292.45</td>\n",
       "      <td>63024780</td>\n",
       "      <td>303476</td>\n",
       "      <td>292.713824</td>\n",
       "      <td>-0.000444</td>\n",
       "      <td>113.90</td>\n",
       "      <td>114.15</td>\n",
       "      <td>113.890</td>\n",
       "      <td>114.13</td>\n",
       "      <td>4661629</td>\n",
       "      <td>11279</td>\n",
       "      <td>114.025187</td>\n",
       "      <td>0.000877</td>\n",
       "    </tr>\n",
       "  </tbody>\n",
       "</table>\n",
       "</div>"
      ],
      "text/plain": [
       "                              SPY                                      \\\n",
       "                             open      high     low   close    volume   \n",
       "timestamp                                                               \n",
       "2019-08-26 04:00:00+00:00  287.24  288.0000  285.58  288.00  72674040   \n",
       "2019-08-27 04:00:00+00:00  289.55  289.9500  286.03  286.87  68307923   \n",
       "2019-08-28 04:00:00+00:00  286.10  289.0700  285.25  288.89  60200590   \n",
       "2019-08-29 04:00:00+00:00  291.77  293.1600  290.61  292.58  58018751   \n",
       "2019-08-30 04:00:00+00:00  294.21  294.2399  291.42  292.45  63024780   \n",
       "\n",
       "                                                                   AGG  \\\n",
       "                          trade_count        vwap daily_return    open   \n",
       "timestamp                                                                \n",
       "2019-08-26 04:00:00+00:00      348875  286.979104          NaN  113.84   \n",
       "2019-08-27 04:00:00+00:00      346860  287.694466    -0.003924  113.91   \n",
       "2019-08-28 04:00:00+00:00      311534  287.877722     0.007042  114.30   \n",
       "2019-08-29 04:00:00+00:00      309986  292.211021     0.012773  114.08   \n",
       "2019-08-30 04:00:00+00:00      303476  292.713824    -0.000444  113.90   \n",
       "\n",
       "                                                                         \\\n",
       "                             high      low   close   volume trade_count   \n",
       "timestamp                                                                 \n",
       "2019-08-26 04:00:00+00:00  113.95  113.670  113.73  5128260       15135   \n",
       "2019-08-27 04:00:00+00:00  114.12  113.870  114.09  3473405        9933   \n",
       "2019-08-28 04:00:00+00:00  114.30  114.040  114.10  5102472       15819   \n",
       "2019-08-29 04:00:00+00:00  114.08  113.835  114.03  2670969       11548   \n",
       "2019-08-30 04:00:00+00:00  114.15  113.890  114.13  4661629       11279   \n",
       "\n",
       "                                                    \n",
       "                                 vwap daily_return  \n",
       "timestamp                                           \n",
       "2019-08-26 04:00:00+00:00  113.784547          NaN  \n",
       "2019-08-27 04:00:00+00:00  114.062880     0.003165  \n",
       "2019-08-28 04:00:00+00:00  114.130072     0.000088  \n",
       "2019-08-29 04:00:00+00:00  113.955831    -0.000613  \n",
       "2019-08-30 04:00:00+00:00  114.025187     0.000877  "
      ]
     },
     "metadata": {},
     "output_type": "display_data"
    },
    {
     "data": {
      "text/html": [
       "<div>\n",
       "<style scoped>\n",
       "    .dataframe tbody tr th:only-of-type {\n",
       "        vertical-align: middle;\n",
       "    }\n",
       "\n",
       "    .dataframe tbody tr th {\n",
       "        vertical-align: top;\n",
       "    }\n",
       "\n",
       "    .dataframe thead tr th {\n",
       "        text-align: left;\n",
       "    }\n",
       "\n",
       "    .dataframe thead tr:last-of-type th {\n",
       "        text-align: right;\n",
       "    }\n",
       "</style>\n",
       "<table border=\"1\" class=\"dataframe\">\n",
       "  <thead>\n",
       "    <tr>\n",
       "      <th></th>\n",
       "      <th colspan=\"8\" halign=\"left\">SPY</th>\n",
       "      <th colspan=\"8\" halign=\"left\">AGG</th>\n",
       "    </tr>\n",
       "    <tr>\n",
       "      <th></th>\n",
       "      <th>open</th>\n",
       "      <th>high</th>\n",
       "      <th>low</th>\n",
       "      <th>close</th>\n",
       "      <th>volume</th>\n",
       "      <th>trade_count</th>\n",
       "      <th>vwap</th>\n",
       "      <th>daily_return</th>\n",
       "      <th>open</th>\n",
       "      <th>high</th>\n",
       "      <th>low</th>\n",
       "      <th>close</th>\n",
       "      <th>volume</th>\n",
       "      <th>trade_count</th>\n",
       "      <th>vwap</th>\n",
       "      <th>daily_return</th>\n",
       "    </tr>\n",
       "    <tr>\n",
       "      <th>timestamp</th>\n",
       "      <th></th>\n",
       "      <th></th>\n",
       "      <th></th>\n",
       "      <th></th>\n",
       "      <th></th>\n",
       "      <th></th>\n",
       "      <th></th>\n",
       "      <th></th>\n",
       "      <th></th>\n",
       "      <th></th>\n",
       "      <th></th>\n",
       "      <th></th>\n",
       "      <th></th>\n",
       "      <th></th>\n",
       "      <th></th>\n",
       "      <th></th>\n",
       "    </tr>\n",
       "  </thead>\n",
       "  <tbody>\n",
       "    <tr>\n",
       "      <th>2022-08-18 04:00:00+00:00</th>\n",
       "      <td>426.78</td>\n",
       "      <td>428.6100</td>\n",
       "      <td>425.50</td>\n",
       "      <td>427.89</td>\n",
       "      <td>47948507</td>\n",
       "      <td>331980</td>\n",
       "      <td>427.137042</td>\n",
       "      <td>0.002906</td>\n",
       "      <td>102.70</td>\n",
       "      <td>102.9300</td>\n",
       "      <td>102.640</td>\n",
       "      <td>102.71</td>\n",
       "      <td>3838685</td>\n",
       "      <td>15666</td>\n",
       "      <td>102.773638</td>\n",
       "      <td>0.002147</td>\n",
       "    </tr>\n",
       "    <tr>\n",
       "      <th>2022-08-19 04:00:00+00:00</th>\n",
       "      <td>424.87</td>\n",
       "      <td>425.2600</td>\n",
       "      <td>421.22</td>\n",
       "      <td>422.14</td>\n",
       "      <td>67861630</td>\n",
       "      <td>438953</td>\n",
       "      <td>423.097019</td>\n",
       "      <td>-0.013438</td>\n",
       "      <td>102.13</td>\n",
       "      <td>102.1300</td>\n",
       "      <td>101.845</td>\n",
       "      <td>101.99</td>\n",
       "      <td>4567988</td>\n",
       "      <td>14353</td>\n",
       "      <td>101.981855</td>\n",
       "      <td>-0.007010</td>\n",
       "    </tr>\n",
       "    <tr>\n",
       "      <th>2022-08-22 04:00:00+00:00</th>\n",
       "      <td>417.04</td>\n",
       "      <td>417.2300</td>\n",
       "      <td>412.40</td>\n",
       "      <td>413.35</td>\n",
       "      <td>77604197</td>\n",
       "      <td>484052</td>\n",
       "      <td>415.048519</td>\n",
       "      <td>-0.020822</td>\n",
       "      <td>101.82</td>\n",
       "      <td>101.8900</td>\n",
       "      <td>101.515</td>\n",
       "      <td>101.55</td>\n",
       "      <td>7132742</td>\n",
       "      <td>24710</td>\n",
       "      <td>101.702316</td>\n",
       "      <td>-0.004314</td>\n",
       "    </tr>\n",
       "    <tr>\n",
       "      <th>2022-08-23 04:00:00+00:00</th>\n",
       "      <td>412.96</td>\n",
       "      <td>415.4200</td>\n",
       "      <td>411.77</td>\n",
       "      <td>412.35</td>\n",
       "      <td>48952606</td>\n",
       "      <td>389397</td>\n",
       "      <td>413.095826</td>\n",
       "      <td>-0.002419</td>\n",
       "      <td>101.54</td>\n",
       "      <td>101.9671</td>\n",
       "      <td>101.400</td>\n",
       "      <td>101.51</td>\n",
       "      <td>6531916</td>\n",
       "      <td>21473</td>\n",
       "      <td>101.686417</td>\n",
       "      <td>-0.000394</td>\n",
       "    </tr>\n",
       "    <tr>\n",
       "      <th>2022-08-24 04:00:00+00:00</th>\n",
       "      <td>412.10</td>\n",
       "      <td>415.1101</td>\n",
       "      <td>411.39</td>\n",
       "      <td>413.67</td>\n",
       "      <td>48983049</td>\n",
       "      <td>334281</td>\n",
       "      <td>413.383226</td>\n",
       "      <td>0.003201</td>\n",
       "      <td>101.35</td>\n",
       "      <td>101.3950</td>\n",
       "      <td>101.150</td>\n",
       "      <td>101.24</td>\n",
       "      <td>5397673</td>\n",
       "      <td>19881</td>\n",
       "      <td>101.259133</td>\n",
       "      <td>-0.002660</td>\n",
       "    </tr>\n",
       "  </tbody>\n",
       "</table>\n",
       "</div>"
      ],
      "text/plain": [
       "                              SPY                                      \\\n",
       "                             open      high     low   close    volume   \n",
       "timestamp                                                               \n",
       "2022-08-18 04:00:00+00:00  426.78  428.6100  425.50  427.89  47948507   \n",
       "2022-08-19 04:00:00+00:00  424.87  425.2600  421.22  422.14  67861630   \n",
       "2022-08-22 04:00:00+00:00  417.04  417.2300  412.40  413.35  77604197   \n",
       "2022-08-23 04:00:00+00:00  412.96  415.4200  411.77  412.35  48952606   \n",
       "2022-08-24 04:00:00+00:00  412.10  415.1101  411.39  413.67  48983049   \n",
       "\n",
       "                                                                   AGG  \\\n",
       "                          trade_count        vwap daily_return    open   \n",
       "timestamp                                                                \n",
       "2022-08-18 04:00:00+00:00      331980  427.137042     0.002906  102.70   \n",
       "2022-08-19 04:00:00+00:00      438953  423.097019    -0.013438  102.13   \n",
       "2022-08-22 04:00:00+00:00      484052  415.048519    -0.020822  101.82   \n",
       "2022-08-23 04:00:00+00:00      389397  413.095826    -0.002419  101.54   \n",
       "2022-08-24 04:00:00+00:00      334281  413.383226     0.003201  101.35   \n",
       "\n",
       "                                                                           \\\n",
       "                               high      low   close   volume trade_count   \n",
       "timestamp                                                                   \n",
       "2022-08-18 04:00:00+00:00  102.9300  102.640  102.71  3838685       15666   \n",
       "2022-08-19 04:00:00+00:00  102.1300  101.845  101.99  4567988       14353   \n",
       "2022-08-22 04:00:00+00:00  101.8900  101.515  101.55  7132742       24710   \n",
       "2022-08-23 04:00:00+00:00  101.9671  101.400  101.51  6531916       21473   \n",
       "2022-08-24 04:00:00+00:00  101.3950  101.150  101.24  5397673       19881   \n",
       "\n",
       "                                                    \n",
       "                                 vwap daily_return  \n",
       "timestamp                                           \n",
       "2022-08-18 04:00:00+00:00  102.773638     0.002147  \n",
       "2022-08-19 04:00:00+00:00  101.981855    -0.007010  \n",
       "2022-08-22 04:00:00+00:00  101.702316    -0.004314  \n",
       "2022-08-23 04:00:00+00:00  101.686417    -0.000394  \n",
       "2022-08-24 04:00:00+00:00  101.259133    -0.002660  "
      ]
     },
     "metadata": {},
     "output_type": "display_data"
    }
   ],
   "source": [
    "# Configure the Monte Carlo simulation to forecast 30 years cumulative returns\n",
    "# The weights should be split 40% to AGG and 60% to SPY.\n",
    "# Run 500 samples.\n",
    "MC_30_year = MCSimulation(\n",
    "    portfolio_data = prices_3_year,\n",
    "    weights = [.6,.4],\n",
    "    num_simulation = 500,\n",
    "    num_trading_days = 252*30)\n",
    "\n",
    "# Review the simulation input data\n",
    "display(MC_30_year.portfolio_data.head())\n",
    "display(MC_30_year.portfolio_data.tail())"
   ]
  },
  {
   "cell_type": "code",
   "execution_count": 141,
   "metadata": {},
   "outputs": [
    {
     "name": "stdout",
     "output_type": "stream",
     "text": [
      "Running Monte Carlo simulation number 0.\n",
      "Running Monte Carlo simulation number 10.\n",
      "Running Monte Carlo simulation number 20.\n",
      "Running Monte Carlo simulation number 30.\n",
      "Running Monte Carlo simulation number 40.\n",
      "Running Monte Carlo simulation number 50.\n",
      "Running Monte Carlo simulation number 60.\n",
      "Running Monte Carlo simulation number 70.\n",
      "Running Monte Carlo simulation number 80.\n",
      "Running Monte Carlo simulation number 90.\n",
      "Running Monte Carlo simulation number 100.\n"
     ]
    },
    {
     "name": "stderr",
     "output_type": "stream",
     "text": [
      "C:\\Users\\lydia\\OneDrive\\Boot_camp\\Challenges\\Module_5_challenge\\financial-planning-tools\\MCForecastTools.py:117: PerformanceWarning: DataFrame is highly fragmented.  This is usually the result of calling `frame.insert` many times, which has poor performance.  Consider joining all columns at once using pd.concat(axis=1) instead.  To get a de-fragmented frame, use `newframe = frame.copy()`\n",
      "  portfolio_cumulative_returns[n] = (1 + sim_df.fillna(0)).cumprod()\n"
     ]
    },
    {
     "name": "stdout",
     "output_type": "stream",
     "text": [
      "Running Monte Carlo simulation number 110.\n",
      "Running Monte Carlo simulation number 120.\n",
      "Running Monte Carlo simulation number 130.\n",
      "Running Monte Carlo simulation number 140.\n",
      "Running Monte Carlo simulation number 150.\n",
      "Running Monte Carlo simulation number 160.\n",
      "Running Monte Carlo simulation number 170.\n",
      "Running Monte Carlo simulation number 180.\n",
      "Running Monte Carlo simulation number 190.\n",
      "Running Monte Carlo simulation number 200.\n",
      "Running Monte Carlo simulation number 210.\n",
      "Running Monte Carlo simulation number 220.\n",
      "Running Monte Carlo simulation number 230.\n",
      "Running Monte Carlo simulation number 240.\n",
      "Running Monte Carlo simulation number 250.\n",
      "Running Monte Carlo simulation number 260.\n",
      "Running Monte Carlo simulation number 270.\n",
      "Running Monte Carlo simulation number 280.\n",
      "Running Monte Carlo simulation number 290.\n",
      "Running Monte Carlo simulation number 300.\n",
      "Running Monte Carlo simulation number 310.\n",
      "Running Monte Carlo simulation number 320.\n",
      "Running Monte Carlo simulation number 330.\n",
      "Running Monte Carlo simulation number 340.\n",
      "Running Monte Carlo simulation number 350.\n",
      "Running Monte Carlo simulation number 360.\n",
      "Running Monte Carlo simulation number 370.\n",
      "Running Monte Carlo simulation number 380.\n",
      "Running Monte Carlo simulation number 390.\n",
      "Running Monte Carlo simulation number 400.\n",
      "Running Monte Carlo simulation number 410.\n",
      "Running Monte Carlo simulation number 420.\n",
      "Running Monte Carlo simulation number 430.\n",
      "Running Monte Carlo simulation number 440.\n",
      "Running Monte Carlo simulation number 450.\n",
      "Running Monte Carlo simulation number 460.\n",
      "Running Monte Carlo simulation number 470.\n",
      "Running Monte Carlo simulation number 480.\n",
      "Running Monte Carlo simulation number 490.\n"
     ]
    },
    {
     "data": {
      "text/html": [
       "<div>\n",
       "<style scoped>\n",
       "    .dataframe tbody tr th:only-of-type {\n",
       "        vertical-align: middle;\n",
       "    }\n",
       "\n",
       "    .dataframe tbody tr th {\n",
       "        vertical-align: top;\n",
       "    }\n",
       "\n",
       "    .dataframe thead th {\n",
       "        text-align: right;\n",
       "    }\n",
       "</style>\n",
       "<table border=\"1\" class=\"dataframe\">\n",
       "  <thead>\n",
       "    <tr style=\"text-align: right;\">\n",
       "      <th></th>\n",
       "      <th>0</th>\n",
       "      <th>1</th>\n",
       "      <th>2</th>\n",
       "      <th>3</th>\n",
       "      <th>4</th>\n",
       "      <th>5</th>\n",
       "      <th>6</th>\n",
       "      <th>7</th>\n",
       "      <th>8</th>\n",
       "      <th>9</th>\n",
       "      <th>...</th>\n",
       "      <th>490</th>\n",
       "      <th>491</th>\n",
       "      <th>492</th>\n",
       "      <th>493</th>\n",
       "      <th>494</th>\n",
       "      <th>495</th>\n",
       "      <th>496</th>\n",
       "      <th>497</th>\n",
       "      <th>498</th>\n",
       "      <th>499</th>\n",
       "    </tr>\n",
       "  </thead>\n",
       "  <tbody>\n",
       "    <tr>\n",
       "      <th>0</th>\n",
       "      <td>1.000000</td>\n",
       "      <td>1.000000</td>\n",
       "      <td>1.000000</td>\n",
       "      <td>1.000000</td>\n",
       "      <td>1.000000</td>\n",
       "      <td>1.000000</td>\n",
       "      <td>1.000000</td>\n",
       "      <td>1.000000</td>\n",
       "      <td>1.000000</td>\n",
       "      <td>1.000000</td>\n",
       "      <td>...</td>\n",
       "      <td>1.000000</td>\n",
       "      <td>1.000000</td>\n",
       "      <td>1.000000</td>\n",
       "      <td>1.000000</td>\n",
       "      <td>1.000000</td>\n",
       "      <td>1.000000</td>\n",
       "      <td>1.000000</td>\n",
       "      <td>1.000000</td>\n",
       "      <td>1.000000</td>\n",
       "      <td>1.000000</td>\n",
       "    </tr>\n",
       "    <tr>\n",
       "      <th>1</th>\n",
       "      <td>1.000939</td>\n",
       "      <td>1.001996</td>\n",
       "      <td>0.990024</td>\n",
       "      <td>0.988981</td>\n",
       "      <td>0.995959</td>\n",
       "      <td>1.011374</td>\n",
       "      <td>1.002826</td>\n",
       "      <td>1.008129</td>\n",
       "      <td>1.003483</td>\n",
       "      <td>0.992986</td>\n",
       "      <td>...</td>\n",
       "      <td>1.011646</td>\n",
       "      <td>1.002076</td>\n",
       "      <td>0.993724</td>\n",
       "      <td>0.994172</td>\n",
       "      <td>1.014567</td>\n",
       "      <td>1.002114</td>\n",
       "      <td>0.987840</td>\n",
       "      <td>0.993475</td>\n",
       "      <td>1.008004</td>\n",
       "      <td>1.006271</td>\n",
       "    </tr>\n",
       "    <tr>\n",
       "      <th>2</th>\n",
       "      <td>1.017116</td>\n",
       "      <td>1.000734</td>\n",
       "      <td>1.008708</td>\n",
       "      <td>0.994317</td>\n",
       "      <td>0.986802</td>\n",
       "      <td>0.998561</td>\n",
       "      <td>1.004789</td>\n",
       "      <td>1.000979</td>\n",
       "      <td>1.014878</td>\n",
       "      <td>1.017700</td>\n",
       "      <td>...</td>\n",
       "      <td>1.017446</td>\n",
       "      <td>1.011203</td>\n",
       "      <td>1.003023</td>\n",
       "      <td>0.996057</td>\n",
       "      <td>1.013958</td>\n",
       "      <td>0.992687</td>\n",
       "      <td>0.979703</td>\n",
       "      <td>0.976583</td>\n",
       "      <td>1.002812</td>\n",
       "      <td>1.014243</td>\n",
       "    </tr>\n",
       "    <tr>\n",
       "      <th>3</th>\n",
       "      <td>1.003765</td>\n",
       "      <td>0.989707</td>\n",
       "      <td>1.008228</td>\n",
       "      <td>0.998832</td>\n",
       "      <td>1.005538</td>\n",
       "      <td>0.990699</td>\n",
       "      <td>1.003994</td>\n",
       "      <td>1.000043</td>\n",
       "      <td>1.023199</td>\n",
       "      <td>1.013645</td>\n",
       "      <td>...</td>\n",
       "      <td>1.022430</td>\n",
       "      <td>1.014517</td>\n",
       "      <td>0.992799</td>\n",
       "      <td>1.015883</td>\n",
       "      <td>1.018622</td>\n",
       "      <td>0.986916</td>\n",
       "      <td>0.981109</td>\n",
       "      <td>0.973216</td>\n",
       "      <td>1.020675</td>\n",
       "      <td>1.026741</td>\n",
       "    </tr>\n",
       "    <tr>\n",
       "      <th>4</th>\n",
       "      <td>1.002400</td>\n",
       "      <td>1.010673</td>\n",
       "      <td>1.009112</td>\n",
       "      <td>0.996843</td>\n",
       "      <td>0.993875</td>\n",
       "      <td>0.979376</td>\n",
       "      <td>1.004989</td>\n",
       "      <td>0.989923</td>\n",
       "      <td>1.032101</td>\n",
       "      <td>1.023299</td>\n",
       "      <td>...</td>\n",
       "      <td>1.018145</td>\n",
       "      <td>1.010699</td>\n",
       "      <td>0.976532</td>\n",
       "      <td>1.022373</td>\n",
       "      <td>1.013372</td>\n",
       "      <td>0.993343</td>\n",
       "      <td>0.989059</td>\n",
       "      <td>0.984920</td>\n",
       "      <td>1.027885</td>\n",
       "      <td>1.019095</td>\n",
       "    </tr>\n",
       "    <tr>\n",
       "      <th>...</th>\n",
       "      <td>...</td>\n",
       "      <td>...</td>\n",
       "      <td>...</td>\n",
       "      <td>...</td>\n",
       "      <td>...</td>\n",
       "      <td>...</td>\n",
       "      <td>...</td>\n",
       "      <td>...</td>\n",
       "      <td>...</td>\n",
       "      <td>...</td>\n",
       "      <td>...</td>\n",
       "      <td>...</td>\n",
       "      <td>...</td>\n",
       "      <td>...</td>\n",
       "      <td>...</td>\n",
       "      <td>...</td>\n",
       "      <td>...</td>\n",
       "      <td>...</td>\n",
       "      <td>...</td>\n",
       "      <td>...</td>\n",
       "      <td>...</td>\n",
       "    </tr>\n",
       "    <tr>\n",
       "      <th>7556</th>\n",
       "      <td>11.212991</td>\n",
       "      <td>4.123166</td>\n",
       "      <td>7.545254</td>\n",
       "      <td>8.264859</td>\n",
       "      <td>9.487125</td>\n",
       "      <td>4.004127</td>\n",
       "      <td>7.652438</td>\n",
       "      <td>2.371272</td>\n",
       "      <td>3.290505</td>\n",
       "      <td>10.777294</td>\n",
       "      <td>...</td>\n",
       "      <td>23.085062</td>\n",
       "      <td>17.987647</td>\n",
       "      <td>1.534218</td>\n",
       "      <td>6.091957</td>\n",
       "      <td>7.246402</td>\n",
       "      <td>5.395384</td>\n",
       "      <td>3.637585</td>\n",
       "      <td>12.146481</td>\n",
       "      <td>10.570887</td>\n",
       "      <td>17.949305</td>\n",
       "    </tr>\n",
       "    <tr>\n",
       "      <th>7557</th>\n",
       "      <td>11.220753</td>\n",
       "      <td>4.093042</td>\n",
       "      <td>7.576004</td>\n",
       "      <td>8.163286</td>\n",
       "      <td>9.662699</td>\n",
       "      <td>4.053683</td>\n",
       "      <td>7.709164</td>\n",
       "      <td>2.313072</td>\n",
       "      <td>3.321218</td>\n",
       "      <td>10.845129</td>\n",
       "      <td>...</td>\n",
       "      <td>23.030925</td>\n",
       "      <td>17.919767</td>\n",
       "      <td>1.542445</td>\n",
       "      <td>6.135225</td>\n",
       "      <td>7.244886</td>\n",
       "      <td>5.507559</td>\n",
       "      <td>3.595751</td>\n",
       "      <td>12.054279</td>\n",
       "      <td>10.786164</td>\n",
       "      <td>18.012020</td>\n",
       "    </tr>\n",
       "    <tr>\n",
       "      <th>7558</th>\n",
       "      <td>11.025577</td>\n",
       "      <td>4.108956</td>\n",
       "      <td>7.439519</td>\n",
       "      <td>8.167526</td>\n",
       "      <td>9.651752</td>\n",
       "      <td>4.072422</td>\n",
       "      <td>7.801097</td>\n",
       "      <td>2.253219</td>\n",
       "      <td>3.310363</td>\n",
       "      <td>10.865819</td>\n",
       "      <td>...</td>\n",
       "      <td>23.554633</td>\n",
       "      <td>17.976170</td>\n",
       "      <td>1.528259</td>\n",
       "      <td>6.127424</td>\n",
       "      <td>7.196640</td>\n",
       "      <td>5.499709</td>\n",
       "      <td>3.573137</td>\n",
       "      <td>11.992654</td>\n",
       "      <td>10.773014</td>\n",
       "      <td>17.876493</td>\n",
       "    </tr>\n",
       "    <tr>\n",
       "      <th>7559</th>\n",
       "      <td>11.116017</td>\n",
       "      <td>4.117022</td>\n",
       "      <td>7.250849</td>\n",
       "      <td>8.243066</td>\n",
       "      <td>9.627737</td>\n",
       "      <td>4.123215</td>\n",
       "      <td>7.827312</td>\n",
       "      <td>2.261307</td>\n",
       "      <td>3.349934</td>\n",
       "      <td>10.800156</td>\n",
       "      <td>...</td>\n",
       "      <td>23.041721</td>\n",
       "      <td>17.749356</td>\n",
       "      <td>1.519703</td>\n",
       "      <td>6.204031</td>\n",
       "      <td>7.191961</td>\n",
       "      <td>5.494640</td>\n",
       "      <td>3.617553</td>\n",
       "      <td>11.985096</td>\n",
       "      <td>10.757726</td>\n",
       "      <td>18.175701</td>\n",
       "    </tr>\n",
       "    <tr>\n",
       "      <th>7560</th>\n",
       "      <td>11.012689</td>\n",
       "      <td>4.110708</td>\n",
       "      <td>7.278599</td>\n",
       "      <td>8.165980</td>\n",
       "      <td>9.848321</td>\n",
       "      <td>4.100636</td>\n",
       "      <td>7.870505</td>\n",
       "      <td>2.270893</td>\n",
       "      <td>3.381471</td>\n",
       "      <td>10.902172</td>\n",
       "      <td>...</td>\n",
       "      <td>23.051133</td>\n",
       "      <td>17.665580</td>\n",
       "      <td>1.496956</td>\n",
       "      <td>6.132053</td>\n",
       "      <td>7.360479</td>\n",
       "      <td>5.454637</td>\n",
       "      <td>3.603008</td>\n",
       "      <td>12.265889</td>\n",
       "      <td>10.709303</td>\n",
       "      <td>18.401306</td>\n",
       "    </tr>\n",
       "  </tbody>\n",
       "</table>\n",
       "<p>7561 rows × 500 columns</p>\n",
       "</div>"
      ],
      "text/plain": [
       "            0         1         2         3         4         5         6    \\\n",
       "0      1.000000  1.000000  1.000000  1.000000  1.000000  1.000000  1.000000   \n",
       "1      1.000939  1.001996  0.990024  0.988981  0.995959  1.011374  1.002826   \n",
       "2      1.017116  1.000734  1.008708  0.994317  0.986802  0.998561  1.004789   \n",
       "3      1.003765  0.989707  1.008228  0.998832  1.005538  0.990699  1.003994   \n",
       "4      1.002400  1.010673  1.009112  0.996843  0.993875  0.979376  1.004989   \n",
       "...         ...       ...       ...       ...       ...       ...       ...   \n",
       "7556  11.212991  4.123166  7.545254  8.264859  9.487125  4.004127  7.652438   \n",
       "7557  11.220753  4.093042  7.576004  8.163286  9.662699  4.053683  7.709164   \n",
       "7558  11.025577  4.108956  7.439519  8.167526  9.651752  4.072422  7.801097   \n",
       "7559  11.116017  4.117022  7.250849  8.243066  9.627737  4.123215  7.827312   \n",
       "7560  11.012689  4.110708  7.278599  8.165980  9.848321  4.100636  7.870505   \n",
       "\n",
       "           7         8          9    ...        490        491       492  \\\n",
       "0     1.000000  1.000000   1.000000  ...   1.000000   1.000000  1.000000   \n",
       "1     1.008129  1.003483   0.992986  ...   1.011646   1.002076  0.993724   \n",
       "2     1.000979  1.014878   1.017700  ...   1.017446   1.011203  1.003023   \n",
       "3     1.000043  1.023199   1.013645  ...   1.022430   1.014517  0.992799   \n",
       "4     0.989923  1.032101   1.023299  ...   1.018145   1.010699  0.976532   \n",
       "...        ...       ...        ...  ...        ...        ...       ...   \n",
       "7556  2.371272  3.290505  10.777294  ...  23.085062  17.987647  1.534218   \n",
       "7557  2.313072  3.321218  10.845129  ...  23.030925  17.919767  1.542445   \n",
       "7558  2.253219  3.310363  10.865819  ...  23.554633  17.976170  1.528259   \n",
       "7559  2.261307  3.349934  10.800156  ...  23.041721  17.749356  1.519703   \n",
       "7560  2.270893  3.381471  10.902172  ...  23.051133  17.665580  1.496956   \n",
       "\n",
       "           493       494       495       496        497        498        499  \n",
       "0     1.000000  1.000000  1.000000  1.000000   1.000000   1.000000   1.000000  \n",
       "1     0.994172  1.014567  1.002114  0.987840   0.993475   1.008004   1.006271  \n",
       "2     0.996057  1.013958  0.992687  0.979703   0.976583   1.002812   1.014243  \n",
       "3     1.015883  1.018622  0.986916  0.981109   0.973216   1.020675   1.026741  \n",
       "4     1.022373  1.013372  0.993343  0.989059   0.984920   1.027885   1.019095  \n",
       "...        ...       ...       ...       ...        ...        ...        ...  \n",
       "7556  6.091957  7.246402  5.395384  3.637585  12.146481  10.570887  17.949305  \n",
       "7557  6.135225  7.244886  5.507559  3.595751  12.054279  10.786164  18.012020  \n",
       "7558  6.127424  7.196640  5.499709  3.573137  11.992654  10.773014  17.876493  \n",
       "7559  6.204031  7.191961  5.494640  3.617553  11.985096  10.757726  18.175701  \n",
       "7560  6.132053  7.360479  5.454637  3.603008  12.265889  10.709303  18.401306  \n",
       "\n",
       "[7561 rows x 500 columns]"
      ]
     },
     "execution_count": 141,
     "metadata": {},
     "output_type": "execute_result"
    }
   ],
   "source": [
    "# Run the Monte Carlo simulation to forecast 30 years cumulative returns\n",
    "MC_30_year.calc_cumulative_return()\n"
   ]
  },
  {
   "cell_type": "code",
   "execution_count": 142,
   "metadata": {},
   "outputs": [
    {
     "data": {
      "image/png": "[encoded data removed]",
      "text/plain": [
       "<Figure size 432x288 with 1 Axes>"
      ]
     },
     "metadata": {
      "needs_background": "light"
     },
     "output_type": "display_data"
    }
   ],
   "source": [
    "# Visualize the 30-year Monte Carlo simulation by creating an\n",
    "MC_30_sim_line_plot = MC_30_year.plot_simulation()"
   ]
  },
  {
   "cell_type": "markdown",
   "metadata": {},
   "source": [
    "Plot the probability distribution of the Monte Carlo simulation."
   ]
  },
  {
   "cell_type": "code",
   "execution_count": 143,
   "metadata": {},
   "outputs": [
    {
     "data": {
      "image/png": "[encoded data removed]",
      "text/plain": [
       "<Figure size 432x288 with 1 Axes>"
      ]
     },
     "metadata": {
      "needs_background": "light"
     },
     "output_type": "display_data"
    }
   ],
   "source": [
    "# Visualize the probability distribution of the 30-year Monte Carlo simulation \n",
    "# by plotting a histogram\n",
    "MC_30_sim_dist_plot = MC_30_year.plot_distribution()"
   ]
  },
  {
   "cell_type": "markdown",
   "metadata": {},
   "source": [
    "### Step 3: Generate the summary statistics for the Monte Carlo simulation."
   ]
  },
  {
   "cell_type": "code",
   "execution_count": 144,
   "metadata": {},
   "outputs": [
    {
     "data": {
      "text/plain": [
       "count           500.000000\n",
       "mean             10.062615\n",
       "std               9.544216\n",
       "min               0.938664\n",
       "25%               4.108190\n",
       "50%               7.061660\n",
       "75%              12.708261\n",
       "max              72.062094\n",
       "95% CI Lower      1.528773\n",
       "95% CI Upper     37.056633\n",
       "Name: 7560, dtype: float64"
      ]
     },
     "execution_count": 144,
     "metadata": {},
     "output_type": "execute_result"
    }
   ],
   "source": [
    "# Generate summary statistics from the 30-year Monte Carlo simulation results\n",
    "# Save the results as a variable\n",
    "MC_30_summary_statistics = MC_30_year.summarize_cumulative_return()\n",
    "\n",
    "\n",
    "# Review the 30-year Monte Carlo summary statistics\n",
    "MC_30_summary_statistics"
   ]
  },
  {
   "cell_type": "markdown",
   "metadata": {},
   "source": [
    "### Step 4: Analyze the Retirement Portfolio Forecasts\n",
    "To calculate the starting portfolio value, we will use the 310 total shares that the member has and adjust the number of shares for each asset to reflect the 60/40 distribution."
   ]
  },
  {
   "cell_type": "code",
   "execution_count": 166,
   "metadata": {},
   "outputs": [
    {
     "data": {
      "text/plain": [
       "89496.38"
      ]
     },
     "execution_count": 166,
     "metadata": {},
     "output_type": "execute_result"
    }
   ],
   "source": [
    "# Print the current balance of the stock and bond portion of the members portfolio\n",
    "total_shares = 310\n",
    "spy_shares_30 = total_shares * .6\n",
    "agg_shares_30 = total_shares * .4\n",
    "spy_value_30 = float(spy_shares_30 * spy_close_price)\n",
    "agg_value_30 = float(agg_shares_30 * agg_close_price)\n",
    "total_30_portfolio_value = spy_value_30 + agg_value_30\n",
    "total_30_portfolio_value"
   ]
  },
  {
   "cell_type": "code",
   "execution_count": 168,
   "metadata": {},
   "outputs": [
    {
     "name": "stdout",
     "output_type": "stream",
     "text": [
      "Based on 500 simulations of cumulative returns taken from 3 years of daily return data, there is a 95% chance that an initial investment of $89496.38 with a 60/40 stock/bond distribution over the next 30 years will end within a range of $136819.61 and $3316434.55.\n"
     ]
    }
   ],
   "source": [
    "# Use the lower and upper `95%` confidence intervals to calculate the range of the possible outcomes for the current stock/bond portfolio\n",
    "ci_lower_30_cumulative_return = MC_30_summary_statistics[8] * total_30_portfolio_value\n",
    "ci_upper_30_cumulative_return = MC_30_summary_statistics[9] * total_30_portfolio_value\n",
    "\n",
    "# Print the result of your calculations\n",
    "print(f\"Based on 500 simulations of cumulative returns taken from 3 years of daily return data, there is a 95% chance that an initial investment of ${total_30_portfolio_value:.2f} \"\n",
    "f\"with a 60/40 stock/bond distribution over the next 30 years will end within a range of ${ci_lower_30_cumulative_return:.2f} and ${ci_upper_30_cumulative_return:.2f}.\")\n"
   ]
  },
  {
   "cell_type": "markdown",
   "metadata": {},
   "source": [
    "## Step 5: Forecast Cumulative Returns in 10 Years\n",
    "Adjust the retirement portfolio and run a new Monte Carlo simulation to find out if the changes will allow members to retire earlier."
   ]
  },
  {
   "cell_type": "code",
   "execution_count": 147,
   "metadata": {},
   "outputs": [
    {
     "data": {
      "text/html": [
       "<div>\n",
       "<style scoped>\n",
       "    .dataframe tbody tr th:only-of-type {\n",
       "        vertical-align: middle;\n",
       "    }\n",
       "\n",
       "    .dataframe tbody tr th {\n",
       "        vertical-align: top;\n",
       "    }\n",
       "\n",
       "    .dataframe thead tr th {\n",
       "        text-align: left;\n",
       "    }\n",
       "\n",
       "    .dataframe thead tr:last-of-type th {\n",
       "        text-align: right;\n",
       "    }\n",
       "</style>\n",
       "<table border=\"1\" class=\"dataframe\">\n",
       "  <thead>\n",
       "    <tr>\n",
       "      <th></th>\n",
       "      <th colspan=\"8\" halign=\"left\">SPY</th>\n",
       "      <th colspan=\"8\" halign=\"left\">AGG</th>\n",
       "    </tr>\n",
       "    <tr>\n",
       "      <th></th>\n",
       "      <th>open</th>\n",
       "      <th>high</th>\n",
       "      <th>low</th>\n",
       "      <th>close</th>\n",
       "      <th>volume</th>\n",
       "      <th>trade_count</th>\n",
       "      <th>vwap</th>\n",
       "      <th>daily_return</th>\n",
       "      <th>open</th>\n",
       "      <th>high</th>\n",
       "      <th>low</th>\n",
       "      <th>close</th>\n",
       "      <th>volume</th>\n",
       "      <th>trade_count</th>\n",
       "      <th>vwap</th>\n",
       "      <th>daily_return</th>\n",
       "    </tr>\n",
       "    <tr>\n",
       "      <th>timestamp</th>\n",
       "      <th></th>\n",
       "      <th></th>\n",
       "      <th></th>\n",
       "      <th></th>\n",
       "      <th></th>\n",
       "      <th></th>\n",
       "      <th></th>\n",
       "      <th></th>\n",
       "      <th></th>\n",
       "      <th></th>\n",
       "      <th></th>\n",
       "      <th></th>\n",
       "      <th></th>\n",
       "      <th></th>\n",
       "      <th></th>\n",
       "      <th></th>\n",
       "    </tr>\n",
       "  </thead>\n",
       "  <tbody>\n",
       "    <tr>\n",
       "      <th>2019-08-26 04:00:00+00:00</th>\n",
       "      <td>287.24</td>\n",
       "      <td>288.0000</td>\n",
       "      <td>285.58</td>\n",
       "      <td>288.00</td>\n",
       "      <td>72674040</td>\n",
       "      <td>348875</td>\n",
       "      <td>286.979104</td>\n",
       "      <td>NaN</td>\n",
       "      <td>113.84</td>\n",
       "      <td>113.95</td>\n",
       "      <td>113.670</td>\n",
       "      <td>113.73</td>\n",
       "      <td>5128260</td>\n",
       "      <td>15135</td>\n",
       "      <td>113.784547</td>\n",
       "      <td>NaN</td>\n",
       "    </tr>\n",
       "    <tr>\n",
       "      <th>2019-08-27 04:00:00+00:00</th>\n",
       "      <td>289.55</td>\n",
       "      <td>289.9500</td>\n",
       "      <td>286.03</td>\n",
       "      <td>286.87</td>\n",
       "      <td>68307923</td>\n",
       "      <td>346860</td>\n",
       "      <td>287.694466</td>\n",
       "      <td>-0.003924</td>\n",
       "      <td>113.91</td>\n",
       "      <td>114.12</td>\n",
       "      <td>113.870</td>\n",
       "      <td>114.09</td>\n",
       "      <td>3473405</td>\n",
       "      <td>9933</td>\n",
       "      <td>114.062880</td>\n",
       "      <td>0.003165</td>\n",
       "    </tr>\n",
       "    <tr>\n",
       "      <th>2019-08-28 04:00:00+00:00</th>\n",
       "      <td>286.10</td>\n",
       "      <td>289.0700</td>\n",
       "      <td>285.25</td>\n",
       "      <td>288.89</td>\n",
       "      <td>60200590</td>\n",
       "      <td>311534</td>\n",
       "      <td>287.877722</td>\n",
       "      <td>0.007042</td>\n",
       "      <td>114.30</td>\n",
       "      <td>114.30</td>\n",
       "      <td>114.040</td>\n",
       "      <td>114.10</td>\n",
       "      <td>5102472</td>\n",
       "      <td>15819</td>\n",
       "      <td>114.130072</td>\n",
       "      <td>0.000088</td>\n",
       "    </tr>\n",
       "    <tr>\n",
       "      <th>2019-08-29 04:00:00+00:00</th>\n",
       "      <td>291.77</td>\n",
       "      <td>293.1600</td>\n",
       "      <td>290.61</td>\n",
       "      <td>292.58</td>\n",
       "      <td>58018751</td>\n",
       "      <td>309986</td>\n",
       "      <td>292.211021</td>\n",
       "      <td>0.012773</td>\n",
       "      <td>114.08</td>\n",
       "      <td>114.08</td>\n",
       "      <td>113.835</td>\n",
       "      <td>114.03</td>\n",
       "      <td>2670969</td>\n",
       "      <td>11548</td>\n",
       "      <td>113.955831</td>\n",
       "      <td>-0.000613</td>\n",
       "    </tr>\n",
       "    <tr>\n",
       "      <th>2019-08-30 04:00:00+00:00</th>\n",
       "      <td>294.21</td>\n",
       "      <td>294.2399</td>\n",
       "      <td>291.42</td>\n",
       "      <td>292.45</td>\n",
       "      <td>63024780</td>\n",
       "      <td>303476</td>\n",
       "      <td>292.713824</td>\n",
       "      <td>-0.000444</td>\n",
       "      <td>113.90</td>\n",
       "      <td>114.15</td>\n",
       "      <td>113.890</td>\n",
       "      <td>114.13</td>\n",
       "      <td>4661629</td>\n",
       "      <td>11279</td>\n",
       "      <td>114.025187</td>\n",
       "      <td>0.000877</td>\n",
       "    </tr>\n",
       "  </tbody>\n",
       "</table>\n",
       "</div>"
      ],
      "text/plain": [
       "                              SPY                                      \\\n",
       "                             open      high     low   close    volume   \n",
       "timestamp                                                               \n",
       "2019-08-26 04:00:00+00:00  287.24  288.0000  285.58  288.00  72674040   \n",
       "2019-08-27 04:00:00+00:00  289.55  289.9500  286.03  286.87  68307923   \n",
       "2019-08-28 04:00:00+00:00  286.10  289.0700  285.25  288.89  60200590   \n",
       "2019-08-29 04:00:00+00:00  291.77  293.1600  290.61  292.58  58018751   \n",
       "2019-08-30 04:00:00+00:00  294.21  294.2399  291.42  292.45  63024780   \n",
       "\n",
       "                                                                   AGG  \\\n",
       "                          trade_count        vwap daily_return    open   \n",
       "timestamp                                                                \n",
       "2019-08-26 04:00:00+00:00      348875  286.979104          NaN  113.84   \n",
       "2019-08-27 04:00:00+00:00      346860  287.694466    -0.003924  113.91   \n",
       "2019-08-28 04:00:00+00:00      311534  287.877722     0.007042  114.30   \n",
       "2019-08-29 04:00:00+00:00      309986  292.211021     0.012773  114.08   \n",
       "2019-08-30 04:00:00+00:00      303476  292.713824    -0.000444  113.90   \n",
       "\n",
       "                                                                         \\\n",
       "                             high      low   close   volume trade_count   \n",
       "timestamp                                                                 \n",
       "2019-08-26 04:00:00+00:00  113.95  113.670  113.73  5128260       15135   \n",
       "2019-08-27 04:00:00+00:00  114.12  113.870  114.09  3473405        9933   \n",
       "2019-08-28 04:00:00+00:00  114.30  114.040  114.10  5102472       15819   \n",
       "2019-08-29 04:00:00+00:00  114.08  113.835  114.03  2670969       11548   \n",
       "2019-08-30 04:00:00+00:00  114.15  113.890  114.13  4661629       11279   \n",
       "\n",
       "                                                    \n",
       "                                 vwap daily_return  \n",
       "timestamp                                           \n",
       "2019-08-26 04:00:00+00:00  113.784547          NaN  \n",
       "2019-08-27 04:00:00+00:00  114.062880     0.003165  \n",
       "2019-08-28 04:00:00+00:00  114.130072     0.000088  \n",
       "2019-08-29 04:00:00+00:00  113.955831    -0.000613  \n",
       "2019-08-30 04:00:00+00:00  114.025187     0.000877  "
      ]
     },
     "execution_count": 147,
     "metadata": {},
     "output_type": "execute_result"
    }
   ],
   "source": [
    "# Configure a Monte Carlo simulation to forecast 10 years cumulative returns\n",
    "# The weights should be split 20% to AGG and 80% to SPY.\n",
    "# Run 500 samples.\n",
    "MC_10_year = MCSimulation(\n",
    "    portfolio_data = prices_3_year,\n",
    "    weights = [.8,.2],\n",
    "    num_simulation = 500,\n",
    "    num_trading_days = 252*10)\n",
    "\n",
    "# Review the simulation input data\n",
    "MC_10_year.portfolio_data.head()\n",
    "\n"
   ]
  },
  {
   "cell_type": "code",
   "execution_count": 148,
   "metadata": {},
   "outputs": [
    {
     "name": "stdout",
     "output_type": "stream",
     "text": [
      "Running Monte Carlo simulation number 0.\n",
      "Running Monte Carlo simulation number 10.\n",
      "Running Monte Carlo simulation number 20.\n",
      "Running Monte Carlo simulation number 30.\n",
      "Running Monte Carlo simulation number 40.\n",
      "Running Monte Carlo simulation number 50.\n",
      "Running Monte Carlo simulation number 60.\n",
      "Running Monte Carlo simulation number 70.\n",
      "Running Monte Carlo simulation number 80.\n",
      "Running Monte Carlo simulation number 90.\n",
      "Running Monte Carlo simulation number 100.\n"
     ]
    },
    {
     "name": "stderr",
     "output_type": "stream",
     "text": [
      "C:\\Users\\lydia\\OneDrive\\Boot_camp\\Challenges\\Module_5_challenge\\financial-planning-tools\\MCForecastTools.py:117: PerformanceWarning: DataFrame is highly fragmented.  This is usually the result of calling `frame.insert` many times, which has poor performance.  Consider joining all columns at once using pd.concat(axis=1) instead.  To get a de-fragmented frame, use `newframe = frame.copy()`\n",
      "  portfolio_cumulative_returns[n] = (1 + sim_df.fillna(0)).cumprod()\n"
     ]
    },
    {
     "name": "stdout",
     "output_type": "stream",
     "text": [
      "Running Monte Carlo simulation number 110.\n",
      "Running Monte Carlo simulation number 120.\n",
      "Running Monte Carlo simulation number 130.\n",
      "Running Monte Carlo simulation number 140.\n",
      "Running Monte Carlo simulation number 150.\n",
      "Running Monte Carlo simulation number 160.\n",
      "Running Monte Carlo simulation number 170.\n",
      "Running Monte Carlo simulation number 180.\n",
      "Running Monte Carlo simulation number 190.\n",
      "Running Monte Carlo simulation number 200.\n",
      "Running Monte Carlo simulation number 210.\n",
      "Running Monte Carlo simulation number 220.\n",
      "Running Monte Carlo simulation number 230.\n",
      "Running Monte Carlo simulation number 240.\n",
      "Running Monte Carlo simulation number 250.\n",
      "Running Monte Carlo simulation number 260.\n",
      "Running Monte Carlo simulation number 270.\n",
      "Running Monte Carlo simulation number 280.\n",
      "Running Monte Carlo simulation number 290.\n",
      "Running Monte Carlo simulation number 300.\n",
      "Running Monte Carlo simulation number 310.\n",
      "Running Monte Carlo simulation number 320.\n",
      "Running Monte Carlo simulation number 330.\n",
      "Running Monte Carlo simulation number 340.\n",
      "Running Monte Carlo simulation number 350.\n",
      "Running Monte Carlo simulation number 360.\n",
      "Running Monte Carlo simulation number 370.\n",
      "Running Monte Carlo simulation number 380.\n",
      "Running Monte Carlo simulation number 390.\n",
      "Running Monte Carlo simulation number 400.\n",
      "Running Monte Carlo simulation number 410.\n",
      "Running Monte Carlo simulation number 420.\n",
      "Running Monte Carlo simulation number 430.\n",
      "Running Monte Carlo simulation number 440.\n",
      "Running Monte Carlo simulation number 450.\n",
      "Running Monte Carlo simulation number 460.\n",
      "Running Monte Carlo simulation number 470.\n",
      "Running Monte Carlo simulation number 480.\n",
      "Running Monte Carlo simulation number 490.\n"
     ]
    },
    {
     "data": {
      "text/html": [
       "<div>\n",
       "<style scoped>\n",
       "    .dataframe tbody tr th:only-of-type {\n",
       "        vertical-align: middle;\n",
       "    }\n",
       "\n",
       "    .dataframe tbody tr th {\n",
       "        vertical-align: top;\n",
       "    }\n",
       "\n",
       "    .dataframe thead th {\n",
       "        text-align: right;\n",
       "    }\n",
       "</style>\n",
       "<table border=\"1\" class=\"dataframe\">\n",
       "  <thead>\n",
       "    <tr style=\"text-align: right;\">\n",
       "      <th></th>\n",
       "      <th>0</th>\n",
       "      <th>1</th>\n",
       "      <th>2</th>\n",
       "      <th>3</th>\n",
       "      <th>4</th>\n",
       "      <th>5</th>\n",
       "      <th>6</th>\n",
       "      <th>7</th>\n",
       "      <th>8</th>\n",
       "      <th>9</th>\n",
       "      <th>...</th>\n",
       "      <th>490</th>\n",
       "      <th>491</th>\n",
       "      <th>492</th>\n",
       "      <th>493</th>\n",
       "      <th>494</th>\n",
       "      <th>495</th>\n",
       "      <th>496</th>\n",
       "      <th>497</th>\n",
       "      <th>498</th>\n",
       "      <th>499</th>\n",
       "    </tr>\n",
       "  </thead>\n",
       "  <tbody>\n",
       "    <tr>\n",
       "      <th>0</th>\n",
       "      <td>1.000000</td>\n",
       "      <td>1.000000</td>\n",
       "      <td>1.000000</td>\n",
       "      <td>1.000000</td>\n",
       "      <td>1.000000</td>\n",
       "      <td>1.000000</td>\n",
       "      <td>1.000000</td>\n",
       "      <td>1.000000</td>\n",
       "      <td>1.000000</td>\n",
       "      <td>1.000000</td>\n",
       "      <td>...</td>\n",
       "      <td>1.000000</td>\n",
       "      <td>1.000000</td>\n",
       "      <td>1.000000</td>\n",
       "      <td>1.000000</td>\n",
       "      <td>1.000000</td>\n",
       "      <td>1.000000</td>\n",
       "      <td>1.000000</td>\n",
       "      <td>1.000000</td>\n",
       "      <td>1.000000</td>\n",
       "      <td>1.000000</td>\n",
       "    </tr>\n",
       "    <tr>\n",
       "      <th>1</th>\n",
       "      <td>1.014072</td>\n",
       "      <td>0.983011</td>\n",
       "      <td>0.995779</td>\n",
       "      <td>0.980442</td>\n",
       "      <td>0.998069</td>\n",
       "      <td>1.006646</td>\n",
       "      <td>1.000259</td>\n",
       "      <td>1.005248</td>\n",
       "      <td>0.988902</td>\n",
       "      <td>0.998628</td>\n",
       "      <td>...</td>\n",
       "      <td>0.984395</td>\n",
       "      <td>1.004727</td>\n",
       "      <td>0.981548</td>\n",
       "      <td>1.013171</td>\n",
       "      <td>0.997813</td>\n",
       "      <td>1.011306</td>\n",
       "      <td>0.976796</td>\n",
       "      <td>0.998213</td>\n",
       "      <td>0.998877</td>\n",
       "      <td>1.006113</td>\n",
       "    </tr>\n",
       "    <tr>\n",
       "      <th>2</th>\n",
       "      <td>0.988247</td>\n",
       "      <td>0.993829</td>\n",
       "      <td>0.978470</td>\n",
       "      <td>1.002620</td>\n",
       "      <td>1.007852</td>\n",
       "      <td>1.008008</td>\n",
       "      <td>1.016403</td>\n",
       "      <td>1.010141</td>\n",
       "      <td>0.979861</td>\n",
       "      <td>0.997554</td>\n",
       "      <td>...</td>\n",
       "      <td>0.962829</td>\n",
       "      <td>1.025245</td>\n",
       "      <td>0.963535</td>\n",
       "      <td>1.022296</td>\n",
       "      <td>1.010327</td>\n",
       "      <td>1.029602</td>\n",
       "      <td>0.976055</td>\n",
       "      <td>0.997680</td>\n",
       "      <td>0.998279</td>\n",
       "      <td>0.994003</td>\n",
       "    </tr>\n",
       "    <tr>\n",
       "      <th>3</th>\n",
       "      <td>0.993158</td>\n",
       "      <td>1.011933</td>\n",
       "      <td>1.012555</td>\n",
       "      <td>1.004859</td>\n",
       "      <td>1.019240</td>\n",
       "      <td>1.014026</td>\n",
       "      <td>1.013776</td>\n",
       "      <td>0.995498</td>\n",
       "      <td>0.994387</td>\n",
       "      <td>0.988911</td>\n",
       "      <td>...</td>\n",
       "      <td>0.945193</td>\n",
       "      <td>1.029697</td>\n",
       "      <td>0.991097</td>\n",
       "      <td>1.022515</td>\n",
       "      <td>0.976933</td>\n",
       "      <td>1.031639</td>\n",
       "      <td>0.987230</td>\n",
       "      <td>0.992610</td>\n",
       "      <td>0.982981</td>\n",
       "      <td>1.013025</td>\n",
       "    </tr>\n",
       "    <tr>\n",
       "      <th>4</th>\n",
       "      <td>0.979875</td>\n",
       "      <td>0.998738</td>\n",
       "      <td>1.019447</td>\n",
       "      <td>0.992502</td>\n",
       "      <td>1.031804</td>\n",
       "      <td>1.006390</td>\n",
       "      <td>1.010415</td>\n",
       "      <td>0.997059</td>\n",
       "      <td>1.008021</td>\n",
       "      <td>1.000584</td>\n",
       "      <td>...</td>\n",
       "      <td>0.935584</td>\n",
       "      <td>1.060026</td>\n",
       "      <td>0.991668</td>\n",
       "      <td>1.043887</td>\n",
       "      <td>0.978847</td>\n",
       "      <td>1.021192</td>\n",
       "      <td>0.979106</td>\n",
       "      <td>1.006716</td>\n",
       "      <td>0.984117</td>\n",
       "      <td>1.006605</td>\n",
       "    </tr>\n",
       "    <tr>\n",
       "      <th>...</th>\n",
       "      <td>...</td>\n",
       "      <td>...</td>\n",
       "      <td>...</td>\n",
       "      <td>...</td>\n",
       "      <td>...</td>\n",
       "      <td>...</td>\n",
       "      <td>...</td>\n",
       "      <td>...</td>\n",
       "      <td>...</td>\n",
       "      <td>...</td>\n",
       "      <td>...</td>\n",
       "      <td>...</td>\n",
       "      <td>...</td>\n",
       "      <td>...</td>\n",
       "      <td>...</td>\n",
       "      <td>...</td>\n",
       "      <td>...</td>\n",
       "      <td>...</td>\n",
       "      <td>...</td>\n",
       "      <td>...</td>\n",
       "      <td>...</td>\n",
       "    </tr>\n",
       "    <tr>\n",
       "      <th>2516</th>\n",
       "      <td>3.346291</td>\n",
       "      <td>1.766292</td>\n",
       "      <td>4.650988</td>\n",
       "      <td>2.659981</td>\n",
       "      <td>0.550227</td>\n",
       "      <td>2.103993</td>\n",
       "      <td>6.030982</td>\n",
       "      <td>1.852286</td>\n",
       "      <td>9.970521</td>\n",
       "      <td>3.568384</td>\n",
       "      <td>...</td>\n",
       "      <td>2.144175</td>\n",
       "      <td>1.980240</td>\n",
       "      <td>3.456685</td>\n",
       "      <td>1.984750</td>\n",
       "      <td>1.459567</td>\n",
       "      <td>4.832649</td>\n",
       "      <td>2.171981</td>\n",
       "      <td>4.424020</td>\n",
       "      <td>1.970744</td>\n",
       "      <td>5.449883</td>\n",
       "    </tr>\n",
       "    <tr>\n",
       "      <th>2517</th>\n",
       "      <td>3.285571</td>\n",
       "      <td>1.769782</td>\n",
       "      <td>4.522686</td>\n",
       "      <td>2.667751</td>\n",
       "      <td>0.543091</td>\n",
       "      <td>2.105094</td>\n",
       "      <td>6.031827</td>\n",
       "      <td>1.855512</td>\n",
       "      <td>10.009774</td>\n",
       "      <td>3.582704</td>\n",
       "      <td>...</td>\n",
       "      <td>2.182364</td>\n",
       "      <td>2.005260</td>\n",
       "      <td>3.490639</td>\n",
       "      <td>1.936919</td>\n",
       "      <td>1.453277</td>\n",
       "      <td>4.850466</td>\n",
       "      <td>2.159938</td>\n",
       "      <td>4.429233</td>\n",
       "      <td>1.970275</td>\n",
       "      <td>5.410399</td>\n",
       "    </tr>\n",
       "    <tr>\n",
       "      <th>2518</th>\n",
       "      <td>3.277134</td>\n",
       "      <td>1.779020</td>\n",
       "      <td>4.564119</td>\n",
       "      <td>2.626537</td>\n",
       "      <td>0.551774</td>\n",
       "      <td>2.033918</td>\n",
       "      <td>6.084456</td>\n",
       "      <td>1.843761</td>\n",
       "      <td>10.016819</td>\n",
       "      <td>3.531356</td>\n",
       "      <td>...</td>\n",
       "      <td>2.222636</td>\n",
       "      <td>2.020371</td>\n",
       "      <td>3.486738</td>\n",
       "      <td>1.977835</td>\n",
       "      <td>1.446758</td>\n",
       "      <td>4.783759</td>\n",
       "      <td>2.148887</td>\n",
       "      <td>4.397207</td>\n",
       "      <td>1.976263</td>\n",
       "      <td>5.415797</td>\n",
       "    </tr>\n",
       "    <tr>\n",
       "      <th>2519</th>\n",
       "      <td>3.269315</td>\n",
       "      <td>1.751516</td>\n",
       "      <td>4.653620</td>\n",
       "      <td>2.628202</td>\n",
       "      <td>0.551663</td>\n",
       "      <td>2.075590</td>\n",
       "      <td>6.200863</td>\n",
       "      <td>1.874059</td>\n",
       "      <td>9.877062</td>\n",
       "      <td>3.550400</td>\n",
       "      <td>...</td>\n",
       "      <td>2.237356</td>\n",
       "      <td>1.982642</td>\n",
       "      <td>3.469741</td>\n",
       "      <td>2.025989</td>\n",
       "      <td>1.465829</td>\n",
       "      <td>4.799030</td>\n",
       "      <td>2.187020</td>\n",
       "      <td>4.391155</td>\n",
       "      <td>1.967804</td>\n",
       "      <td>5.422583</td>\n",
       "    </tr>\n",
       "    <tr>\n",
       "      <th>2520</th>\n",
       "      <td>3.327483</td>\n",
       "      <td>1.788121</td>\n",
       "      <td>4.583638</td>\n",
       "      <td>2.669030</td>\n",
       "      <td>0.552876</td>\n",
       "      <td>2.088478</td>\n",
       "      <td>6.108893</td>\n",
       "      <td>1.855682</td>\n",
       "      <td>9.912511</td>\n",
       "      <td>3.505335</td>\n",
       "      <td>...</td>\n",
       "      <td>2.280283</td>\n",
       "      <td>2.002990</td>\n",
       "      <td>3.420252</td>\n",
       "      <td>1.992908</td>\n",
       "      <td>1.483153</td>\n",
       "      <td>4.816970</td>\n",
       "      <td>2.241569</td>\n",
       "      <td>4.419914</td>\n",
       "      <td>1.978081</td>\n",
       "      <td>5.344801</td>\n",
       "    </tr>\n",
       "  </tbody>\n",
       "</table>\n",
       "<p>2521 rows × 500 columns</p>\n",
       "</div>"
      ],
      "text/plain": [
       "           0         1         2         3         4         5         6    \\\n",
       "0     1.000000  1.000000  1.000000  1.000000  1.000000  1.000000  1.000000   \n",
       "1     1.014072  0.983011  0.995779  0.980442  0.998069  1.006646  1.000259   \n",
       "2     0.988247  0.993829  0.978470  1.002620  1.007852  1.008008  1.016403   \n",
       "3     0.993158  1.011933  1.012555  1.004859  1.019240  1.014026  1.013776   \n",
       "4     0.979875  0.998738  1.019447  0.992502  1.031804  1.006390  1.010415   \n",
       "...        ...       ...       ...       ...       ...       ...       ...   \n",
       "2516  3.346291  1.766292  4.650988  2.659981  0.550227  2.103993  6.030982   \n",
       "2517  3.285571  1.769782  4.522686  2.667751  0.543091  2.105094  6.031827   \n",
       "2518  3.277134  1.779020  4.564119  2.626537  0.551774  2.033918  6.084456   \n",
       "2519  3.269315  1.751516  4.653620  2.628202  0.551663  2.075590  6.200863   \n",
       "2520  3.327483  1.788121  4.583638  2.669030  0.552876  2.088478  6.108893   \n",
       "\n",
       "           7          8         9    ...       490       491       492  \\\n",
       "0     1.000000   1.000000  1.000000  ...  1.000000  1.000000  1.000000   \n",
       "1     1.005248   0.988902  0.998628  ...  0.984395  1.004727  0.981548   \n",
       "2     1.010141   0.979861  0.997554  ...  0.962829  1.025245  0.963535   \n",
       "3     0.995498   0.994387  0.988911  ...  0.945193  1.029697  0.991097   \n",
       "4     0.997059   1.008021  1.000584  ...  0.935584  1.060026  0.991668   \n",
       "...        ...        ...       ...  ...       ...       ...       ...   \n",
       "2516  1.852286   9.970521  3.568384  ...  2.144175  1.980240  3.456685   \n",
       "2517  1.855512  10.009774  3.582704  ...  2.182364  2.005260  3.490639   \n",
       "2518  1.843761  10.016819  3.531356  ...  2.222636  2.020371  3.486738   \n",
       "2519  1.874059   9.877062  3.550400  ...  2.237356  1.982642  3.469741   \n",
       "2520  1.855682   9.912511  3.505335  ...  2.280283  2.002990  3.420252   \n",
       "\n",
       "           493       494       495       496       497       498       499  \n",
       "0     1.000000  1.000000  1.000000  1.000000  1.000000  1.000000  1.000000  \n",
       "1     1.013171  0.997813  1.011306  0.976796  0.998213  0.998877  1.006113  \n",
       "2     1.022296  1.010327  1.029602  0.976055  0.997680  0.998279  0.994003  \n",
       "3     1.022515  0.976933  1.031639  0.987230  0.992610  0.982981  1.013025  \n",
       "4     1.043887  0.978847  1.021192  0.979106  1.006716  0.984117  1.006605  \n",
       "...        ...       ...       ...       ...       ...       ...       ...  \n",
       "2516  1.984750  1.459567  4.832649  2.171981  4.424020  1.970744  5.449883  \n",
       "2517  1.936919  1.453277  4.850466  2.159938  4.429233  1.970275  5.410399  \n",
       "2518  1.977835  1.446758  4.783759  2.148887  4.397207  1.976263  5.415797  \n",
       "2519  2.025989  1.465829  4.799030  2.187020  4.391155  1.967804  5.422583  \n",
       "2520  1.992908  1.483153  4.816970  2.241569  4.419914  1.978081  5.344801  \n",
       "\n",
       "[2521 rows x 500 columns]"
      ]
     },
     "execution_count": 148,
     "metadata": {},
     "output_type": "execute_result"
    }
   ],
   "source": [
    "# Run the Monte Carlo simulation to forecast 10 years cumulative returns\n",
    "MC_10_year.calc_cumulative_return()\n"
   ]
  },
  {
   "cell_type": "code",
   "execution_count": 149,
   "metadata": {},
   "outputs": [
    {
     "data": {
      "image/png": "[encoded data removed]",
      "text/plain": [
       "<Figure size 432x288 with 1 Axes>"
      ]
     },
     "metadata": {
      "needs_background": "light"
     },
     "output_type": "display_data"
    }
   ],
   "source": [
    "# Visualize the 10-year Monte Carlo simulation by creating an\n",
    "# overlay line plot\n",
    "MC_10_sim_line_plot = MC_10_year.plot_simulation()\n"
   ]
  },
  {
   "cell_type": "code",
   "execution_count": 150,
   "metadata": {},
   "outputs": [
    {
     "data": {
      "image/png": "[encoded data removed]",
      "text/plain": [
       "<Figure size 432x288 with 1 Axes>"
      ]
     },
     "metadata": {
      "needs_background": "light"
     },
     "output_type": "display_data"
    }
   ],
   "source": [
    "# Visualize the probability distribution of the 10-year Monte Carlo simulation \n",
    "# by plotting a histogram\n",
    "MC_10_sim_dist_plot = MC_10_year.plot_distribution()\n"
   ]
  },
  {
   "cell_type": "code",
   "execution_count": 151,
   "metadata": {},
   "outputs": [
    {
     "data": {
      "text/plain": [
       "count           500.000000\n",
       "mean              3.166158\n",
       "std               2.270535\n",
       "min               0.504039\n",
       "25%               1.702417\n",
       "50%               2.662228\n",
       "75%               3.856522\n",
       "max              24.532705\n",
       "95% CI Lower      0.723308\n",
       "95% CI Upper      8.512822\n",
       "Name: 2520, dtype: float64"
      ]
     },
     "execution_count": 151,
     "metadata": {},
     "output_type": "execute_result"
    }
   ],
   "source": [
    "# Generate summary statistics from the 10-year Monte Carlo simulation results\n",
    "# Save the results as a variable\n",
    "MC_10_summary_statistics = MC_10_year.summarize_cumulative_return()\n",
    "\n",
    "\n",
    "# Review the 10-year Monte Carlo summary statistics\n",
    "MC_10_summary_statistics"
   ]
  },
  {
   "cell_type": "markdown",
   "metadata": {},
   "source": [
    "#### Question: Using the current value of only the stock and bond portion of the member's portfolio and the summary statistics that you generated from the new Monte Carlo simulation, what are the lower and upper bounds for the expected value of the portfolio (with the new weights) with a 95% confidence interval?"
   ]
  },
  {
   "cell_type": "code",
   "execution_count": 170,
   "metadata": {},
   "outputs": [
    {
     "data": {
      "text/plain": [
       "108867.04000000001"
      ]
     },
     "execution_count": 170,
     "metadata": {},
     "output_type": "execute_result"
    }
   ],
   "source": [
    "# Print the current balance of the stock and bond portion of the members portfolio\n",
    "total_shares = 310\n",
    "spy_shares_10 = total_shares * .8\n",
    "agg_shares_10 = total_shares * .2\n",
    "spy_value_10 = float(spy_shares_10 * spy_close_price)\n",
    "agg_value_10 = float(agg_shares_10 * agg_close_price)\n",
    "total_10_portfolio_value = spy_value_10 + agg_value_10\n",
    "total_10_portfolio_value\n"
   ]
  },
  {
   "cell_type": "code",
   "execution_count": 172,
   "metadata": {},
   "outputs": [
    {
     "name": "stdout",
     "output_type": "stream",
     "text": [
      "Based on 500 simulations of cumulative returns taken from 3 years of daily return data, there is a 95% chance that an initial investment of $108867.04 with an 80/20 stock/bond distribution over the next 10 years will end within a range of $78744.42 and $926765.68.\n"
     ]
    }
   ],
   "source": [
    "# Use the lower and upper `95%` confidence intervals to calculate the range of the possible outcomes for the current stock/bond portfolio\n",
    "ci_lower_10_cumulative_return = MC_10_summary_statistics[8] * total_10_portfolio_value\n",
    "ci_upper_10_cumulative_return = MC_10_summary_statistics[9] * total_10_portfolio_value\n",
    "\n",
    "# Print the result of your calculations\n",
    "print(f\"Based on 500 simulations of cumulative returns taken from 3 years of daily return data, there is a 95% chance that an initial investment of ${total_10_portfolio_value:.2f} \"\n",
    "f\"with an 80/20 stock/bond distribution over the next 10 years will end within a range of ${ci_lower_10_cumulative_return:.2f} and ${ci_upper_10_cumulative_return:.2f}.\")\n"
   ]
  },
  {
   "cell_type": "code",
   "execution_count": 173,
   "metadata": {},
   "outputs": [
    {
     "name": "stdout",
     "output_type": "stream",
     "text": [
      "Based on 500 simulations of cumulative returns taken from 3 years of daily return data, there is a 95% chance that an initial investment of $89496.38 with a 60/40 stock/bond distribution over the next 30 years will end within a range of $136819.61 and $3316434.55.\n",
      "------------\n",
      "Based on 500 simulations of cumulative returns taken from 3 years of daily return data, there is a 95% chance that an initial investment of $108867.04 with an 80/20 stock/bond distribution over the next 10 years will end within a range of $78744.42 and $926765.68.\n"
     ]
    }
   ],
   "source": [
    "print(f\"Based on 500 simulations of cumulative returns taken from 3 years of daily return data, there is a 95% chance that an initial investment of ${total_30_portfolio_value:.2f} \"\n",
    "f\"with a 60/40 stock/bond distribution over the next 30 years will end within a range of ${ci_lower_30_cumulative_return:.2f} and ${ci_upper_30_cumulative_return:.2f}.\")\n",
    "print('------------')\n",
    "print(f\"Based on 500 simulations of cumulative returns taken from 3 years of daily return data, there is a 95% chance that an initial investment of ${total_10_portfolio_value:.2f} \"\n",
    "f\"with an 80/20 stock/bond distribution over the next 10 years will end within a range of ${ci_lower_10_cumulative_return:.2f} and ${ci_upper_10_cumulative_return:.2f}.\")"
   ]
  },
  {
   "cell_type": "markdown",
   "metadata": {},
   "source": [
    "#### To get a clearer picture of the differences between the forecasts, I decided to plot the lower-bound, upper-bound, and mean cumulative returns of the simulations on a bar chart."
   ]
  },
  {
   "cell_type": "code",
   "execution_count": 176,
   "metadata": {},
   "outputs": [
    {
     "name": "stdout",
     "output_type": "stream",
     "text": [
      "344690.27\n"
     ]
    },
    {
     "data": {
      "text/plain": [
       "None"
      ]
     },
     "metadata": {},
     "output_type": "display_data"
    },
    {
     "name": "stdout",
     "output_type": "stream",
     "text": [
      "900567.59\n"
     ]
    },
    {
     "data": {
      "text/plain": [
       "None"
      ]
     },
     "metadata": {},
     "output_type": "display_data"
    },
    {
     "data": {
      "text/html": [
       "<div>\n",
       "<style scoped>\n",
       "    .dataframe tbody tr th:only-of-type {\n",
       "        vertical-align: middle;\n",
       "    }\n",
       "\n",
       "    .dataframe tbody tr th {\n",
       "        vertical-align: top;\n",
       "    }\n",
       "\n",
       "    .dataframe thead th {\n",
       "        text-align: right;\n",
       "    }\n",
       "</style>\n",
       "<table border=\"1\" class=\"dataframe\">\n",
       "  <thead>\n",
       "    <tr style=\"text-align: right;\">\n",
       "      <th></th>\n",
       "      <th>10-year 80/20</th>\n",
       "      <th>30-year 60/40</th>\n",
       "    </tr>\n",
       "  </thead>\n",
       "  <tbody>\n",
       "    <tr>\n",
       "      <th>lower-bound return</th>\n",
       "      <td>78744.42</td>\n",
       "      <td>136819.61</td>\n",
       "    </tr>\n",
       "    <tr>\n",
       "      <th>mean return</th>\n",
       "      <td>344690.27</td>\n",
       "      <td>900567.59</td>\n",
       "    </tr>\n",
       "    <tr>\n",
       "      <th>upper-bound return</th>\n",
       "      <td>926765.68</td>\n",
       "      <td>3316434.55</td>\n",
       "    </tr>\n",
       "  </tbody>\n",
       "</table>\n",
       "</div>"
      ],
      "text/plain": [
       "                    10-year 80/20  30-year 60/40\n",
       "lower-bound return       78744.42      136819.61\n",
       "mean return             344690.27      900567.59\n",
       "upper-bound return      926765.68     3316434.55"
      ]
     },
     "execution_count": 176,
     "metadata": {},
     "output_type": "execute_result"
    }
   ],
   "source": [
    "MC_10_mean_cumulative_return = MC_10_summary_statistics[1] * total_10_portfolio_value\n",
    "MC_30_mean_cumulative_return = MC_30_summary_statistics[1] * total_30_portfolio_value\n",
    "display(print(f\"{MC_10_mean_cumulative_return:.2f}\"))\n",
    "display(print(f\"{MC_30_mean_cumulative_return:.2f}\"))\n",
    "\n",
    "MC_simulations = {\n",
    "    '10-year 80/20' : [78744.42, 344690.27, 926765.68],\n",
    "    '30-year 60/40' : [136819.61, 900567.59, 3316434.55]\n",
    "}\n",
    "\n",
    "MC_simulations_df = pd.DataFrame(MC_simulations)\n",
    "sim_index = ['lower-bound return', 'mean return', 'upper-bound return']\n",
    "MC_simulations_df.index=sim_index\n",
    "MC_simulations_df"
   ]
  },
  {
   "cell_type": "code",
   "execution_count": 177,
   "metadata": {},
   "outputs": [
    {
     "data": {
      "text/plain": [
       "<AxesSubplot:>"
      ]
     },
     "execution_count": 177,
     "metadata": {},
     "output_type": "execute_result"
    },
    {
     "data": {
      "image/png": "[encoded data removed]",
      "text/plain": [
       "<Figure size 432x288 with 1 Axes>"
      ]
     },
     "metadata": {
      "needs_background": "light"
     },
     "output_type": "display_data"
    }
   ],
   "source": [
    "MC_simulations_df.plot.bar()"
   ]
  },
  {
   "cell_type": "markdown",
   "metadata": {},
   "source": [
    "## Final Question: Will weighting the portfolio more heavily to stocks allow the credit union members to retire after only 10 years?"
   ]
  },
  {
   "cell_type": "markdown",
   "metadata": {},
   "source": [
    "Note: The figures I mention in this section are from one iteration of the two simulations. Running the simulations again could result in slightly different numbers, but the conclusions remain the same.\n",
    "\n",
    "While it would be theoretically possible for the credit union members to be able to retire after only ten years, it would be much more risky. While weighting the portfolio more heavily on stocks could possibly yield a 926,765.68 dollars over ten years, that figure is at the upper range of the confidence interval, and therefore could be seen as a best case scenario. Another factor to consider is that the earlier one retires, the longer they are going to have to stretch the money from their retirement portfolio.\n",
    "\n",
    "Suppose the member is 35 years old. If they retire in 10 years at age 45, and we expect them to live to age 85, they will need that money to last for 40 years, assuming that they will not go back to work. With a mean return of 344,690.27 dollars, that would allow them only 8,617 dollars per year, which is obviously not enough. Even in the best case scenario of making 926,765 dollars, that would still only allow them 23,169 dollars per year. On the other hand, if the member is currently 55 years old and they want to retire in 10 years at age 65, and they expect to live to 85, that would give them a mean 17,234 dollars per year, still not enough, or a best case scenario of 46,338 dollars per year, which while theoretically livable, is still not ideal. Unfortunately, the 55 year old customer is most likely not going to want to retire at age 85, so their options would be more limited than the 35 year old customer.\n",
    "\n",
    "These findings have emphasized even further to me the importance of planning for retirement early. Additionally, it also demonstrates the importance of having a larger, more diversified portfolio. If all of your investments are distributed between only one stock and one bond, then your options will be much more limited than someone whose assets are distributed amongst several stocks, bonds, real-estate holdings, etc.\n",
    "\n",
    "In this scenario, I would not advise the credit union members to plan on being able to retire in 10 years. A slightly extended window, such as 15 or 20 years, could be more realistic.\n",
    "\n",
    "Finally, we also need to take the results of both of these simulations with a sizeable sprinkle of salt, as both simulations are projecting significantly further into the future than the data they are based on. I do not think it would be responsible to present a simulation of 10 to 30 years of returns based on only 3 years of historical data as an accurate prediction. To create a prediction that I would be fully confident presenting to customers in a professional setting, I would have to rerun the 10 and 30 year simulations using at least 10 and 30 years of historical data, respectively. Also I believe the summary statistics of the simulations would be more accurate if at least 1000 simulations were run instead of 500."
   ]
  },
  {
   "cell_type": "code",
   "execution_count": null,
   "metadata": {},
   "outputs": [],
   "source": []
  }
 ],
 "metadata": {
  "kernelspec": {
   "display_name": "Python 3 (ipykernel)",
   "language": "python",
   "name": "python3"
  },
  "language_info": {
   "codemirror_mode": {
    "name": "ipython",
    "version": 3
   },
   "file_extension": ".py",
   "mimetype": "text/x-python",
   "name": "python",
   "nbconvert_exporter": "python",
   "pygments_lexer": "ipython3",
   "version": "3.7.13"
  }
 },
 "nbformat": 4,
 "nbformat_minor": 4
}
